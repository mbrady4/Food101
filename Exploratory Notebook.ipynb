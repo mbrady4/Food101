{
 "cells": [
  {
   "cell_type": "markdown",
   "metadata": {},
   "source": [
    "### Background\n",
    "\n",
    "- Data scraped from a website. Training data contains noise (mislabels+distorted images). Test data has been cleaned. \n",
    "- Data contains 101 labeleled images. 750 per category are included in the train set and 250 per category are included in the test set."
   ]
  },
  {
   "cell_type": "markdown",
   "metadata": {},
   "source": [
    "### Objectives\n",
    "- Build a model which gets better ~85% top-one test accuracy across all categories using a ResNet50 or smaller architecture"
   ]
  },
  {
   "cell_type": "markdown",
   "metadata": {},
   "source": [
    "### Approach\n",
    "\n",
    "- Build a baseline model with transfer learning applied to ResNet50\n",
    "- Assess performance on validation set (or puruse CV)\n",
    "\n",
    "#### Potential Improvements\n",
    "\n",
    "- Scrape additional images for poor-performing classes to augment training set\n",
    "- Use data augmentation to increase data"
   ]
  },
  {
   "cell_type": "markdown",
   "metadata": {},
   "source": [
    "#### Resources\n",
    "\n",
    "- Test Time Augmentation: https://towardsdatascience.com/test-time-augmentation-tta-and-how-to-perform-it-with-keras-4ac19b67fb4d\n"
   ]
  },
  {
   "cell_type": "markdown",
   "metadata": {},
   "source": [
    "# Data Preparation"
   ]
  },
  {
   "cell_type": "code",
   "execution_count": 30,
   "metadata": {},
   "outputs": [],
   "source": [
    "import json\n",
    "import os\n",
    "import pandas as pd\n",
    "import shutil"
   ]
  },
  {
   "cell_type": "code",
   "execution_count": 33,
   "metadata": {},
   "outputs": [],
   "source": [
    "train_dict = json.load(open('food-101/meta/train.json'))"
   ]
  },
  {
   "cell_type": "code",
   "execution_count": 37,
   "metadata": {},
   "outputs": [],
   "source": [
    "original_dataset_dir = '/Users/brady/Documents/GitHub/food101/food-101/images'\n",
    "base_dir = '/Users/brady/Documents/GitHub/food101/data'"
   ]
  },
  {
   "cell_type": "code",
   "execution_count": 39,
   "metadata": {
    "collapsed": true
   },
   "outputs": [
    {
     "name": "stdout",
     "output_type": "stream",
     "text": [
      "/Users/brady/Documents/GitHub/food101/data/train/churros\n",
      "/Users/brady/Documents/GitHub/food101/data/train/hot_and_sour_soup\n",
      "/Users/brady/Documents/GitHub/food101/data/train/samosa\n",
      "/Users/brady/Documents/GitHub/food101/data/train/sashimi\n",
      "/Users/brady/Documents/GitHub/food101/data/train/pork_chop\n",
      "/Users/brady/Documents/GitHub/food101/data/train/spring_rolls\n",
      "/Users/brady/Documents/GitHub/food101/data/train/panna_cotta\n",
      "/Users/brady/Documents/GitHub/food101/data/train/beef_tartare\n",
      "/Users/brady/Documents/GitHub/food101/data/train/greek_salad\n",
      "/Users/brady/Documents/GitHub/food101/data/train/foie_gras\n",
      "/Users/brady/Documents/GitHub/food101/data/train/tacos\n",
      "/Users/brady/Documents/GitHub/food101/data/train/pad_thai\n",
      "/Users/brady/Documents/GitHub/food101/data/train/poutine\n",
      "/Users/brady/Documents/GitHub/food101/data/train/ramen\n",
      "/Users/brady/Documents/GitHub/food101/data/train/pulled_pork_sandwich\n",
      "/Users/brady/Documents/GitHub/food101/data/train/bibimbap\n",
      "/Users/brady/Documents/GitHub/food101/data/train/beignets\n",
      "/Users/brady/Documents/GitHub/food101/data/train/apple_pie\n",
      "/Users/brady/Documents/GitHub/food101/data/train/crab_cakes\n",
      "/Users/brady/Documents/GitHub/food101/data/train/risotto\n",
      "/Users/brady/Documents/GitHub/food101/data/train/paella\n",
      "/Users/brady/Documents/GitHub/food101/data/train/steak\n",
      "/Users/brady/Documents/GitHub/food101/data/train/baby_back_ribs\n",
      "/Users/brady/Documents/GitHub/food101/data/train/miso_soup\n",
      "/Users/brady/Documents/GitHub/food101/data/train/frozen_yogurt\n",
      "/Users/brady/Documents/GitHub/food101/data/train/club_sandwich\n",
      "/Users/brady/Documents/GitHub/food101/data/train/carrot_cake\n",
      "/Users/brady/Documents/GitHub/food101/data/train/falafel\n",
      "/Users/brady/Documents/GitHub/food101/data/train/bread_pudding\n",
      "/Users/brady/Documents/GitHub/food101/data/train/chicken_wings\n",
      "/Users/brady/Documents/GitHub/food101/data/train/gnocchi\n",
      "/Users/brady/Documents/GitHub/food101/data/train/caprese_salad\n",
      "/Users/brady/Documents/GitHub/food101/data/train/creme_brulee\n",
      "/Users/brady/Documents/GitHub/food101/data/train/escargots\n",
      "/Users/brady/Documents/GitHub/food101/data/train/chocolate_cake\n",
      "/Users/brady/Documents/GitHub/food101/data/train/tiramisu\n",
      "/Users/brady/Documents/GitHub/food101/data/train/spaghetti_bolognese\n",
      "/Users/brady/Documents/GitHub/food101/data/train/mussels\n",
      "/Users/brady/Documents/GitHub/food101/data/train/scallops\n",
      "/Users/brady/Documents/GitHub/food101/data/train/baklava\n",
      "/Users/brady/Documents/GitHub/food101/data/train/edamame\n",
      "/Users/brady/Documents/GitHub/food101/data/train/macaroni_and_cheese\n",
      "/Users/brady/Documents/GitHub/food101/data/train/pancakes\n",
      "/Users/brady/Documents/GitHub/food101/data/train/garlic_bread\n",
      "/Users/brady/Documents/GitHub/food101/data/train/beet_salad\n",
      "/Users/brady/Documents/GitHub/food101/data/train/onion_rings\n",
      "/Users/brady/Documents/GitHub/food101/data/train/red_velvet_cake\n",
      "/Users/brady/Documents/GitHub/food101/data/train/grilled_salmon\n",
      "/Users/brady/Documents/GitHub/food101/data/train/chicken_curry\n",
      "/Users/brady/Documents/GitHub/food101/data/train/deviled_eggs\n",
      "/Users/brady/Documents/GitHub/food101/data/train/caesar_salad\n",
      "/Users/brady/Documents/GitHub/food101/data/train/hummus\n",
      "/Users/brady/Documents/GitHub/food101/data/train/fish_and_chips\n",
      "/Users/brady/Documents/GitHub/food101/data/train/lasagna\n",
      "/Users/brady/Documents/GitHub/food101/data/train/peking_duck\n",
      "/Users/brady/Documents/GitHub/food101/data/train/guacamole\n",
      "/Users/brady/Documents/GitHub/food101/data/train/strawberry_shortcake\n",
      "/Users/brady/Documents/GitHub/food101/data/train/clam_chowder\n",
      "/Users/brady/Documents/GitHub/food101/data/train/croque_madame\n",
      "/Users/brady/Documents/GitHub/food101/data/train/french_onion_soup\n",
      "/Users/brady/Documents/GitHub/food101/data/train/beef_carpaccio\n",
      "/Users/brady/Documents/GitHub/food101/data/train/fried_rice\n",
      "/Users/brady/Documents/GitHub/food101/data/train/donuts\n",
      "/Users/brady/Documents/GitHub/food101/data/train/gyoza\n",
      "/Users/brady/Documents/GitHub/food101/data/train/ravioli\n",
      "/Users/brady/Documents/GitHub/food101/data/train/fried_calamari\n",
      "/Users/brady/Documents/GitHub/food101/data/train/spaghetti_carbonara\n",
      "/Users/brady/Documents/GitHub/food101/data/train/french_toast\n",
      "/Users/brady/Documents/GitHub/food101/data/train/lobster_bisque\n",
      "/Users/brady/Documents/GitHub/food101/data/train/ceviche\n",
      "/Users/brady/Documents/GitHub/food101/data/train/bruschetta\n",
      "/Users/brady/Documents/GitHub/food101/data/train/french_fries\n",
      "/Users/brady/Documents/GitHub/food101/data/train/shrimp_and_grits\n",
      "/Users/brady/Documents/GitHub/food101/data/train/filet_mignon\n",
      "/Users/brady/Documents/GitHub/food101/data/train/hamburger\n",
      "/Users/brady/Documents/GitHub/food101/data/train/dumplings\n",
      "/Users/brady/Documents/GitHub/food101/data/train/tuna_tartare\n",
      "/Users/brady/Documents/GitHub/food101/data/train/sushi\n",
      "/Users/brady/Documents/GitHub/food101/data/train/cheese_plate\n",
      "/Users/brady/Documents/GitHub/food101/data/train/eggs_benedict\n",
      "/Users/brady/Documents/GitHub/food101/data/train/cup_cakes\n",
      "/Users/brady/Documents/GitHub/food101/data/train/takoyaki\n",
      "/Users/brady/Documents/GitHub/food101/data/train/chocolate_mousse\n",
      "/Users/brady/Documents/GitHub/food101/data/train/breakfast_burrito\n",
      "/Users/brady/Documents/GitHub/food101/data/train/hot_dog\n",
      "/Users/brady/Documents/GitHub/food101/data/train/macarons\n",
      "/Users/brady/Documents/GitHub/food101/data/train/waffles\n",
      "/Users/brady/Documents/GitHub/food101/data/train/seaweed_salad\n",
      "/Users/brady/Documents/GitHub/food101/data/train/cannoli\n",
      "/Users/brady/Documents/GitHub/food101/data/train/huevos_rancheros\n",
      "/Users/brady/Documents/GitHub/food101/data/train/pizza\n",
      "/Users/brady/Documents/GitHub/food101/data/train/chicken_quesadilla\n",
      "/Users/brady/Documents/GitHub/food101/data/train/pho\n",
      "/Users/brady/Documents/GitHub/food101/data/train/prime_rib\n",
      "/Users/brady/Documents/GitHub/food101/data/train/cheesecake\n",
      "/Users/brady/Documents/GitHub/food101/data/train/ice_cream\n",
      "/Users/brady/Documents/GitHub/food101/data/train/omelette\n",
      "/Users/brady/Documents/GitHub/food101/data/train/grilled_cheese_sandwich\n",
      "/Users/brady/Documents/GitHub/food101/data/train/lobster_roll_sandwich\n",
      "/Users/brady/Documents/GitHub/food101/data/train/nachos\n",
      "/Users/brady/Documents/GitHub/food101/data/train/oysters\n"
     ]
    }
   ],
   "source": [
    "# Create class directories in train folder\n",
    "# for key in train_dict.keys():\n",
    "#     class_dir = os.path.join(base_dir, 'train/' + key)\n",
    "#     os.mkdir(class_dir)"
   ]
  },
  {
   "cell_type": "code",
   "execution_count": 45,
   "metadata": {},
   "outputs": [],
   "source": [
    "# Copy files from original dataset_dir to appropriate train directory\n",
    "# for key in train_dict.keys():\n",
    "#     for file in train_dict[key]:\n",
    "#         src = os.path.join(original_dataset_dir, file + '.jpg')\n",
    "#         dst = os.path.join(base_dir + '/train/', file + '.jpg')\n",
    "#         shutil.copyfile(src, dst)"
   ]
  },
  {
   "cell_type": "markdown",
   "metadata": {},
   "source": [
    "### Initial Baseline Model"
   ]
  },
  {
   "cell_type": "code",
   "execution_count": 46,
   "metadata": {},
   "outputs": [
    {
     "name": "stderr",
     "output_type": "stream",
     "text": [
      "Using TensorFlow backend.\n"
     ]
    }
   ],
   "source": [
    "from keras.preprocessing.image import ImageDataGenerator"
   ]
  },
  {
   "cell_type": "code",
   "execution_count": 47,
   "metadata": {},
   "outputs": [],
   "source": [
    "datagen = ImageDataGenerator(validation_split=0.2)"
   ]
  },
  {
   "cell_type": "code",
   "execution_count": 48,
   "metadata": {},
   "outputs": [
    {
     "name": "stdout",
     "output_type": "stream",
     "text": [
      "/Users/brady/Documents/GitHub/food101\r\n"
     ]
    }
   ],
   "source": [
    "!pwd"
   ]
  },
  {
   "cell_type": "code",
   "execution_count": 52,
   "metadata": {},
   "outputs": [
    {
     "name": "stdout",
     "output_type": "stream",
     "text": [
      "Found 60600 images belonging to 101 classes.\n"
     ]
    }
   ],
   "source": [
    "train_data = datagen.flow_from_directory('data/train/', class_mode='categorical', subset='training')"
   ]
  },
  {
   "cell_type": "code",
   "execution_count": 54,
   "metadata": {},
   "outputs": [],
   "source": [
    "# Base CNN Architecture\n",
    "from keras import layers\n",
    "from keras import models\n",
    "from keras import optimizers"
   ]
  },
  {
   "cell_type": "code",
   "execution_count": 56,
   "metadata": {},
   "outputs": [],
   "source": [
    "model = models.Sequential()\n",
    "model.add(layers.Conv2D(32, (3,3), activation='relu', input_shape=(256,256,3)))\n",
    "model.add(layers.MaxPooling2D((2,2)))\n",
    "model.add(layers.Conv2D(64, (3,3), activation='relu'))\n",
    "model.add(layers.MaxPooling2D((2,2)))\n",
    "model.add(layers.Conv2D(128, (3,3), activation='relu'))\n",
    "model.add(layers.MaxPooling2D((2,2)))\n",
    "model.add(layers.Conv2D(128, (3,3), activation='relu'))\n",
    "model.add(layers.MaxPooling2D((2,2)))\n",
    "model.add(layers.Flatten())\n",
    "model.add(layers.Dense(512, activation='relu'))\n",
    "model.add(layers.Dense(101, activation='sigmoid'))\n",
    "\n",
    "model.compile(loss='binary_crossentropy',\n",
    "              optimizer=optimizers.RMSprop(),\n",
    "              metrics=['acc'])"
   ]
  },
  {
   "cell_type": "code",
   "execution_count": 57,
   "metadata": {},
   "outputs": [
    {
     "name": "stdout",
     "output_type": "stream",
     "text": [
      "_________________________________________________________________\n",
      "Layer (type)                 Output Shape              Param #   \n",
      "=================================================================\n",
      "conv2d_3 (Conv2D)            (None, 254, 254, 32)      896       \n",
      "_________________________________________________________________\n",
      "max_pooling2d_2 (MaxPooling2 (None, 127, 127, 32)      0         \n",
      "_________________________________________________________________\n",
      "conv2d_4 (Conv2D)            (None, 125, 125, 64)      18496     \n",
      "_________________________________________________________________\n",
      "max_pooling2d_3 (MaxPooling2 (None, 62, 62, 64)        0         \n",
      "_________________________________________________________________\n",
      "conv2d_5 (Conv2D)            (None, 60, 60, 128)       73856     \n",
      "_________________________________________________________________\n",
      "max_pooling2d_4 (MaxPooling2 (None, 30, 30, 128)       0         \n",
      "_________________________________________________________________\n",
      "conv2d_6 (Conv2D)            (None, 28, 28, 128)       147584    \n",
      "_________________________________________________________________\n",
      "max_pooling2d_5 (MaxPooling2 (None, 14, 14, 128)       0         \n",
      "_________________________________________________________________\n",
      "flatten_1 (Flatten)          (None, 25088)             0         \n",
      "_________________________________________________________________\n",
      "dense_1 (Dense)              (None, 512)               12845568  \n",
      "_________________________________________________________________\n",
      "dense_2 (Dense)              (None, 101)               51813     \n",
      "=================================================================\n",
      "Total params: 13,138,213\n",
      "Trainable params: 13,138,213\n",
      "Non-trainable params: 0\n",
      "_________________________________________________________________\n"
     ]
    }
   ],
   "source": [
    "model.summary()"
   ]
  },
  {
   "cell_type": "code",
   "execution_count": 58,
   "metadata": {},
   "outputs": [
    {
     "name": "stdout",
     "output_type": "stream",
     "text": [
      "WARNING:tensorflow:From /anaconda3/envs/U4-S2-NNF/lib/python3.7/site-packages/tensorflow/python/ops/math_ops.py:3066: to_int32 (from tensorflow.python.ops.math_ops) is deprecated and will be removed in a future version.\n",
      "Instructions for updating:\n",
      "Use tf.cast instead.\n",
      "Epoch 1/3\n",
      " - 267s - loss: 3.4407 - acc: 0.7825\n",
      "Epoch 2/3\n",
      " - 272s - loss: 3.4086 - acc: 0.7863\n",
      "Epoch 3/3\n",
      " - 270s - loss: 3.4104 - acc: 0.7862\n"
     ]
    }
   ],
   "source": [
    "history = model.fit_generator(\n",
    "    train_data,\n",
    "    steps_per_epoch=100,\n",
    "    epochs=3,\n",
    "    verbose=2,\n",
    ")"
   ]
  },
  {
   "cell_type": "code",
   "execution_count": 60,
   "metadata": {},
   "outputs": [
    {
     "data": {
      "text/plain": [
       "dict_keys(['loss', 'acc'])"
      ]
     },
     "execution_count": 60,
     "metadata": {},
     "output_type": "execute_result"
    }
   ],
   "source": [
    "history.history.keys()"
   ]
  },
  {
   "cell_type": "code",
   "execution_count": 62,
   "metadata": {},
   "outputs": [
    {
     "data": {
      "text/plain": [
       "[0.7825464349985123, 0.7862809705734253, 0.7861695873737335]"
      ]
     },
     "execution_count": 62,
     "metadata": {},
     "output_type": "execute_result"
    }
   ],
   "source": [
    "history.history['acc']"
   ]
  }
 ],
 "metadata": {
  "kernelspec": {
   "display_name": "U4-S2-NNF (Python 3)",
   "language": "python",
   "name": "u4-s2-nnf"
  },
  "language_info": {
   "codemirror_mode": {
    "name": "ipython",
    "version": 3
   },
   "file_extension": ".py",
   "mimetype": "text/x-python",
   "name": "python",
   "nbconvert_exporter": "python",
   "pygments_lexer": "ipython3",
   "version": "3.7.3"
  }
 },
 "nbformat": 4,
 "nbformat_minor": 2
}
