{
 "cells": [
  {
   "cell_type": "code",
   "execution_count": 9,
   "metadata": {},
   "outputs": [],
   "source": [
    "import json\n",
    "import os\n",
    "import pandas as pd\n",
    "import shutil\n",
    "\n",
    "train_dict = json.load(open('food-101/meta/train.json'))\n",
    "\n",
    "original_dataset_dir = '/home/jupyter/food-101/images'\n",
    "base_dir = '/home/jupyter/data'"
   ]
  },
  {
   "cell_type": "code",
   "execution_count": 10,
   "metadata": {},
   "outputs": [],
   "source": [
    "# Create class directories in train folder\n",
    "for key in train_dict.keys():\n",
    "    class_dir = os.path.join(base_dir, 'train/' + key)\n",
    "    os.mkdir(class_dir)"
   ]
  },
  {
   "cell_type": "code",
   "execution_count": 11,
   "metadata": {},
   "outputs": [],
   "source": [
    "# Copy files from original dataset_dir to appropriate train directory\n",
    "for key in train_dict.keys():\n",
    "    for file in train_dict[key]:\n",
    "        src = os.path.join(original_dataset_dir, file + '.jpg')\n",
    "        dst = os.path.join(base_dir + '/train/', file + '.jpg')\n",
    "        shutil.copyfile(src, dst)"
   ]
  },
  {
   "cell_type": "code",
   "execution_count": 12,
   "metadata": {},
   "outputs": [],
   "source": [
    "test_dict = json.load(open('food-101/meta/test.json'))"
   ]
  },
  {
   "cell_type": "code",
   "execution_count": 13,
   "metadata": {},
   "outputs": [],
   "source": [
    "for key in test_dict.keys():\n",
    "    class_dir = os.path.join(base_dir, 'test/' + key)\n",
    "    os.mkdir(class_dir)"
   ]
  },
  {
   "cell_type": "code",
   "execution_count": 14,
   "metadata": {},
   "outputs": [],
   "source": [
    "# Copy files from original dataset_dir to appropriate test directory\n",
    "for key in test_dict.keys():\n",
    "    for file in test_dict[key]:\n",
    "        src = os.path.join(original_dataset_dir, file + '.jpg')\n",
    "        dst = os.path.join(base_dir + '/test/', file + '.jpg')\n",
    "        shutil.copyfile(src, dst)"
   ]
  },
  {
   "cell_type": "code",
   "execution_count": null,
   "metadata": {},
   "outputs": [],
   "source": []
  }
 ],
 "metadata": {
  "kernelspec": {
   "display_name": "Python 3",
   "language": "python",
   "name": "python3"
  },
  "language_info": {
   "codemirror_mode": {
    "name": "ipython",
    "version": 3
   },
   "file_extension": ".py",
   "mimetype": "text/x-python",
   "name": "python",
   "nbconvert_exporter": "python",
   "pygments_lexer": "ipython3",
   "version": "3.5.3"
  }
 },
 "nbformat": 4,
 "nbformat_minor": 4
}
