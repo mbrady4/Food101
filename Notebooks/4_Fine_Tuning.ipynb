{
 "cells": [
  {
   "cell_type": "code",
   "execution_count": 1,
   "metadata": {},
   "outputs": [
    {
     "name": "stderr",
     "output_type": "stream",
     "text": [
      "Using TensorFlow backend.\n"
     ]
    }
   ],
   "source": [
    "from keras.models import Model\n",
    "from keras.optimizers import RMSprop\n",
    "from keras.models import load_model\n",
    "from keras.callbacks import ModelCheckpoint, EarlyStopping\n",
    "from keras.preprocessing.image import ImageDataGenerator"
   ]
  },
  {
   "cell_type": "code",
   "execution_count": 2,
   "metadata": {},
   "outputs": [
    {
     "name": "stdout",
     "output_type": "stream",
     "text": [
      "Found 68175 images belonging to 102 classes.\n",
      "Found 7575 images belonging to 102 classes.\n"
     ]
    }
   ],
   "source": [
    "datagen = ImageDataGenerator(rescale=1./255, \n",
    "                             brightness_range=[0.8,1.2],\n",
    "                             rotation_range=20,\n",
    "                             zoom_range=[0.8,1.2],\n",
    "                             fill_mode='nearest',\n",
    "                             validation_split=0.1)\n",
    "\n",
    "train_datagen = datagen.flow_from_directory('data/train/', seed=42, class_mode='categorical', subset='training', target_size=(512,512))\n",
    "# prints \"60603 images belonging to 101 classes\"\n",
    "val_datagen = datagen.flow_from_directory('data/train/', seed=42, class_mode='categorical', subset='validation', target_size=(512,512)) \n",
    "# prints \"15150 images belonging to 101 classes\"\n",
    "\n",
    "train_steps = len(train_datagen) #1894\n",
    "val_steps = len(val_datagen) #474\n",
    "classes = len(list(train_datagen.class_indices.keys())) #101"
   ]
  },
  {
   "cell_type": "code",
   "execution_count": 3,
   "metadata": {},
   "outputs": [
    {
     "name": "stderr",
     "output_type": "stream",
     "text": [
      "/usr/local/lib/python3.5/dist-packages/keras/engine/saving.py:384: UserWarning: Error in loading the saved optimizer state. As a result, your model is starting with a freshly initialized optimizer.\n",
      "  warnings.warn('Error in loading the saved optimizer '\n"
     ]
    }
   ],
   "source": [
    "model = load_model('trained_top_resnet.h5', compile=True)"
   ]
  },
  {
   "cell_type": "code",
   "execution_count": 4,
   "metadata": {},
   "outputs": [
    {
     "name": "stdout",
     "output_type": "stream",
     "text": [
      "Model: \"sequential_1\"\n",
      "_________________________________________________________________\n",
      "Layer (type)                 Output Shape              Param #   \n",
      "=================================================================\n",
      "resnet50v2 (Model)           (None, 2048)              23564800  \n",
      "_________________________________________________________________\n",
      "batch_normalization_1 (Batch (None, 2048)              8192      \n",
      "_________________________________________________________________\n",
      "dropout_1 (Dropout)          (None, 2048)              0         \n",
      "_________________________________________________________________\n",
      "dense_1 (Dense)              (None, 512)               1049088   \n",
      "_________________________________________________________________\n",
      "batch_normalization_2 (Batch (None, 512)               2048      \n",
      "_________________________________________________________________\n",
      "dropout_2 (Dropout)          (None, 512)               0         \n",
      "_________________________________________________________________\n",
      "dense_2 (Dense)              (None, 102)               52326     \n",
      "=================================================================\n",
      "Total params: 24,676,454\n",
      "Trainable params: 24,625,894\n",
      "Non-trainable params: 50,560\n",
      "_________________________________________________________________\n"
     ]
    }
   ],
   "source": [
    "model.summary()"
   ]
  },
  {
   "cell_type": "code",
   "execution_count": 6,
   "metadata": {},
   "outputs": [],
   "source": [
    "# for layer in model.get_layer('resnet50v2').layers:\n",
    "    # print(layer.name)"
   ]
  },
  {
   "cell_type": "code",
   "execution_count": 7,
   "metadata": {},
   "outputs": [
    {
     "data": {
      "text/plain": [
       "180"
      ]
     },
     "execution_count": 7,
     "metadata": {},
     "output_type": "execute_result"
    }
   ],
   "source": [
    "len(model.trainable_weights)"
   ]
  },
  {
   "cell_type": "code",
   "execution_count": 8,
   "metadata": {},
   "outputs": [],
   "source": [
    "set_trainable = False\n",
    "for layer in model.get_layer('resnet50v2').layers:\n",
    "        if layer.name == 'conv5_block1_preact_bn':\n",
    "            set_trainable = True\n",
    "        if set_trainable == True:\n",
    "            layer.trainable = True\n",
    "        else:\n",
    "            layer.trainable = False"
   ]
  },
  {
   "cell_type": "code",
   "execution_count": 9,
   "metadata": {},
   "outputs": [
    {
     "data": {
      "text/plain": [
       "42"
      ]
     },
     "execution_count": 9,
     "metadata": {},
     "output_type": "execute_result"
    }
   ],
   "source": [
    "len(model.trainable_weights)"
   ]
  },
  {
   "cell_type": "code",
   "execution_count": 10,
   "metadata": {},
   "outputs": [],
   "source": [
    "model.compile(loss='categorical_crossentropy',\n",
    "                      optimizer=RMSprop(lr=0.0001),\n",
    "                      metrics=['acc','top_k_categorical_accuracy'])"
   ]
  },
  {
   "cell_type": "code",
   "execution_count": 11,
   "metadata": {},
   "outputs": [],
   "source": [
    "callbacks = [\n",
    "    ModelCheckpoint(\n",
    "        filepath='tuned_resnet.h5',\n",
    "        monitor='val_acc',\n",
    "        save_best_only=True,\n",
    "    ),\n",
    "    EarlyStopping(\n",
    "        monitor='val_acc',\n",
    "        patience=2,\n",
    "    )\n",
    "]"
   ]
  },
  {
   "cell_type": "code",
   "execution_count": 12,
   "metadata": {},
   "outputs": [
    {
     "name": "stdout",
     "output_type": "stream",
     "text": [
      "Epoch 1/50\n",
      " - 8951s - loss: 1.7749 - acc: 0.5652 - top_k_categorical_accuracy: 0.8100 - val_loss: 1.1696 - val_acc: 0.7071 - val_top_k_categorical_accuracy: 0.9011\n",
      "Epoch 2/50\n",
      " - 6123s - loss: 1.3890 - acc: 0.6586 - top_k_categorical_accuracy: 0.8708 - val_loss: 1.2801 - val_acc: 0.7296 - val_top_k_categorical_accuracy: 0.9166\n",
      "Epoch 3/50\n",
      " - 5885s - loss: 1.1733 - acc: 0.7130 - top_k_categorical_accuracy: 0.9004 - val_loss: 1.0770 - val_acc: 0.7473 - val_top_k_categorical_accuracy: 0.9213\n",
      "Epoch 4/50\n",
      " - 5875s - loss: 1.0215 - acc: 0.7502 - top_k_categorical_accuracy: 0.9195 - val_loss: 0.8403 - val_acc: 0.7500 - val_top_k_categorical_accuracy: 0.9233\n",
      "Epoch 5/50\n",
      " - 5827s - loss: 0.9060 - acc: 0.7783 - top_k_categorical_accuracy: 0.9313 - val_loss: 0.9589 - val_acc: 0.7633 - val_top_k_categorical_accuracy: 0.9211\n",
      "Epoch 6/50\n",
      " - 5764s - loss: 0.7917 - acc: 0.8049 - top_k_categorical_accuracy: 0.9448 - val_loss: 0.8857 - val_acc: 0.7584 - val_top_k_categorical_accuracy: 0.9251\n",
      "Epoch 7/50\n",
      " - 5742s - loss: 0.7070 - acc: 0.8273 - top_k_categorical_accuracy: 0.9539 - val_loss: 1.2360 - val_acc: 0.7646 - val_top_k_categorical_accuracy: 0.9267\n",
      "Epoch 8/50\n",
      " - 5749s - loss: 0.6282 - acc: 0.8454 - top_k_categorical_accuracy: 0.9616 - val_loss: 0.6133 - val_acc: 0.7654 - val_top_k_categorical_accuracy: 0.9233\n",
      "Epoch 9/50\n",
      " - 5760s - loss: 0.5603 - acc: 0.8620 - top_k_categorical_accuracy: 0.9683 - val_loss: 0.4989 - val_acc: 0.7687 - val_top_k_categorical_accuracy: 0.9250\n",
      "Epoch 10/50\n",
      " - 5773s - loss: 0.5090 - acc: 0.8753 - top_k_categorical_accuracy: 0.9725 - val_loss: 0.6716 - val_acc: 0.7658 - val_top_k_categorical_accuracy: 0.9234\n",
      "Epoch 11/50\n",
      " - 5499s - loss: 0.4519 - acc: 0.8888 - top_k_categorical_accuracy: 0.9771 - val_loss: 1.7424 - val_acc: 0.7570 - val_top_k_categorical_accuracy: 0.9205\n"
     ]
    }
   ],
   "source": [
    "history = model.fit_generator(\n",
    "    train_datagen,\n",
    "    steps_per_epoch=train_steps,\n",
    "    epochs=50,\n",
    "    verbose=2,\n",
    "    validation_data=val_datagen,\n",
    "    validation_steps=val_steps,\n",
    "    callbacks=callbacks\n",
    ")"
   ]
  }
 ],
 "metadata": {
  "kernelspec": {
   "display_name": "Python 3",
   "language": "python",
   "name": "python3"
  },
  "language_info": {
   "codemirror_mode": {
    "name": "ipython",
    "version": 3
   },
   "file_extension": ".py",
   "mimetype": "text/x-python",
   "name": "python",
   "nbconvert_exporter": "python",
   "pygments_lexer": "ipython3",
   "version": "3.5.3"
  }
 },
 "nbformat": 4,
 "nbformat_minor": 4
}
