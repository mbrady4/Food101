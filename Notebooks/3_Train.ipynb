{
 "cells": [
  {
   "cell_type": "code",
   "execution_count": 1,
   "metadata": {},
   "outputs": [
    {
     "name": "stderr",
     "output_type": "stream",
     "text": [
      "Using TensorFlow backend.\n"
     ]
    }
   ],
   "source": [
    "from keras.applications import ResNet50V2\n",
    "from keras.models import Model\n",
    "from keras.models import Sequential\n",
    "from keras.layers import Dense\n",
    "from keras.layers import Dropout\n",
    "from keras.layers import BatchNormalization\n",
    "from keras.callbacks import ModelCheckpoint, EarlyStopping\n",
    "from keras.optimizers import RMSprop\n",
    "from keras.preprocessing.image import ImageDataGenerator"
   ]
  },
  {
   "cell_type": "markdown",
   "metadata": {},
   "source": [
    "# Training Custom Connected Layer w/ResNet50V2 Base"
   ]
  },
  {
   "cell_type": "code",
   "execution_count": 2,
   "metadata": {},
   "outputs": [
    {
     "name": "stdout",
     "output_type": "stream",
     "text": [
      "Found 73528 images belonging to 102 classes.\n",
      "Found 2222 images belonging to 102 classes.\n"
     ]
    }
   ],
   "source": [
    "datagen = ImageDataGenerator(rescale=1./255, \n",
    "                             brightness_range=[0.8,1.2],\n",
    "                             rotation_range=30,\n",
    "                             horizontal_flip=True,\n",
    "                             zoom_range=[0.8,1.2],\n",
    "                             fill_mode='nearest',\n",
    "                             validation_split=0.03)\n",
    "\n",
    "train_datagen = datagen.flow_from_directory('data/train/', seed=42, class_mode='categorical', subset='training', target_size=(512,512))\n",
    "# prints \"XXX images belonging to 101 classes\"\n",
    "val_datagen = datagen.flow_from_directory('data/train/', seed=42, class_mode='categorical', subset='validation', target_size=(512,512)) \n",
    "# prints \"XXX images belonging to 101 classes\"\n",
    "\n",
    "train_steps = len(train_datagen) #1894\n",
    "val_steps = len(val_datagen) #474\n",
    "classes = len(list(train_datagen.class_indices.keys())) #101"
   ]
  },
  {
   "cell_type": "code",
   "execution_count": 3,
   "metadata": {},
   "outputs": [],
   "source": [
    "conv_base = ResNet50V2(weights='imagenet', include_top=False, pooling='avg', input_shape=(512, 512, 3))"
   ]
  },
  {
   "cell_type": "code",
   "execution_count": 4,
   "metadata": {},
   "outputs": [],
   "source": [
    "model = Sequential()\n",
    "\n",
    "model.add(conv_base)\n",
    "model.add(BatchNormalization())\n",
    "model.add(Dropout(0.5))\n",
    "model.add(Dense(512, activation='relu'))\n",
    "model.add(BatchNormalization())\n",
    "model.add(Dropout(0.5))\n",
    "model.add(Dense(classes, activation='softmax'))\n",
    "\n",
    "conv_base.trainable = False"
   ]
  },
  {
   "cell_type": "code",
   "execution_count": 5,
   "metadata": {},
   "outputs": [],
   "source": [
    "import math\n",
    "\n",
    "def lr_schedule(epoch):\n",
    "    initial_lrate = 0.001\n",
    "    drop = 0.5\n",
    "    epochs_drop = 20.0\n",
    "    lrate = initial_lrate * math.pow(drop, math.floor((1+epoch)/epochs_drop))\n",
    "    return lrate"
   ]
  },
  {
   "cell_type": "code",
   "execution_count": 6,
   "metadata": {},
   "outputs": [],
   "source": [
    "callbacks = [\n",
    "    ModelCheckpoint(\n",
    "        filepath='trained_top_resnet.h5',\n",
    "        monitor='val_acc',\n",
    "        save_best_only=True,\n",
    "    ),\n",
    "    EarlyStopping(\n",
    "        monitor='val_acc',\n",
    "        patience=2,\n",
    "    )\n",
    "]"
   ]
  },
  {
   "cell_type": "code",
   "execution_count": 7,
   "metadata": {},
   "outputs": [],
   "source": [
    "model.compile(loss='categorical_crossentropy',\n",
    "              optimizer=RMSprop(),\n",
    "              metrics=['acc','top_k_categorical_accuracy'])"
   ]
  },
  {
   "cell_type": "code",
   "execution_count": 8,
   "metadata": {},
   "outputs": [
    {
     "name": "stdout",
     "output_type": "stream",
     "text": [
      "Epoch 1/50\n",
      " - 5927s - loss: 2.8424 - acc: 0.3389 - top_k_categorical_accuracy: 0.6004 - val_loss: 2.4957 - val_acc: 0.4028 - val_top_k_categorical_accuracy: 0.6962\n",
      "Epoch 2/50\n",
      " - 5420s - loss: 2.3840 - acc: 0.4247 - top_k_categorical_accuracy: 0.6945 - val_loss: 2.7581 - val_acc: 0.4203 - val_top_k_categorical_accuracy: 0.6962\n",
      "Epoch 3/50\n",
      " - 5647s - loss: 2.3327 - acc: 0.4348 - top_k_categorical_accuracy: 0.7059 - val_loss: 3.3645 - val_acc: 0.4334 - val_top_k_categorical_accuracy: 0.7030\n",
      "Epoch 4/50\n",
      " - 5855s - loss: 2.3134 - acc: 0.4382 - top_k_categorical_accuracy: 0.7082 - val_loss: 2.1044 - val_acc: 0.4176 - val_top_k_categorical_accuracy: 0.6962\n",
      "Epoch 5/50\n",
      " - 5889s - loss: 2.3103 - acc: 0.4396 - top_k_categorical_accuracy: 0.7077 - val_loss: 2.0695 - val_acc: 0.4347 - val_top_k_categorical_accuracy: 0.7025\n",
      "Epoch 6/50\n",
      " - 5761s - loss: 2.3109 - acc: 0.4399 - top_k_categorical_accuracy: 0.7086 - val_loss: 2.8691 - val_acc: 0.4401 - val_top_k_categorical_accuracy: 0.7084\n",
      "Epoch 7/50\n",
      " - 5732s - loss: 2.2908 - acc: 0.4446 - top_k_categorical_accuracy: 0.7117 - val_loss: 2.1387 - val_acc: 0.4221 - val_top_k_categorical_accuracy: 0.6949\n",
      "Epoch 8/50\n",
      " - 5736s - loss: 2.3003 - acc: 0.4448 - top_k_categorical_accuracy: 0.7113 - val_loss: 2.4471 - val_acc: 0.4451 - val_top_k_categorical_accuracy: 0.6985\n",
      "Epoch 9/50\n",
      " - 6140s - loss: 2.2937 - acc: 0.4453 - top_k_categorical_accuracy: 0.7112 - val_loss: 1.7983 - val_acc: 0.4469 - val_top_k_categorical_accuracy: 0.7061\n",
      "Epoch 10/50\n",
      " - 7139s - loss: 2.2829 - acc: 0.4481 - top_k_categorical_accuracy: 0.7148 - val_loss: 1.8013 - val_acc: 0.4203 - val_top_k_categorical_accuracy: 0.7012\n",
      "Epoch 11/50\n",
      " - 6579s - loss: 2.2804 - acc: 0.4485 - top_k_categorical_accuracy: 0.7133 - val_loss: 2.7052 - val_acc: 0.4311 - val_top_k_categorical_accuracy: 0.7111\n"
     ]
    }
   ],
   "source": [
    "history = model.fit_generator(\n",
    "    train_datagen,\n",
    "    steps_per_epoch=train_steps,\n",
    "    epochs=50,\n",
    "    verbose=2,\n",
    "    validation_data=val_datagen,\n",
    "    validation_steps=val_steps,\n",
    "    callbacks=callbacks\n",
    ")"
   ]
  },
  {
   "cell_type": "markdown",
   "metadata": {},
   "source": [
    "# Visualize Performance Over Time"
   ]
  },
  {
   "cell_type": "code",
   "execution_count": 1,
   "metadata": {},
   "outputs": [],
   "source": [
    "import matplotlib.pyplot as plt\n",
    "\n",
    "def plot_history(history, metric):\n",
    "    plt.title(metric)\n",
    "    plt.plot(history.history[metric])\n",
    "    plt.plot(history.history['val_'+metric])\n",
    "    plt.ylabel(metric)\n",
    "    plt.xlabel('epoch #')\n",
    "    plt.legend(['train '+metric,'validation '+metric], loc='best')\n",
    "    plt.show()"
   ]
  },
  {
   "cell_type": "code",
   "execution_count": null,
   "metadata": {},
   "outputs": [],
   "source": [
    "plot_history(history, 'acc')"
   ]
  },
  {
   "cell_type": "code",
   "execution_count": null,
   "metadata": {},
   "outputs": [],
   "source": [
    "plot_history(history, 'loss')"
   ]
  }
 ],
 "metadata": {
  "kernelspec": {
   "display_name": "Python 3",
   "language": "python",
   "name": "python3"
  },
  "language_info": {
   "codemirror_mode": {
    "name": "ipython",
    "version": 3
   },
   "file_extension": ".py",
   "mimetype": "text/x-python",
   "name": "python",
   "nbconvert_exporter": "python",
   "pygments_lexer": "ipython3",
   "version": "3.5.3"
  }
 },
 "nbformat": 4,
 "nbformat_minor": 4
}
