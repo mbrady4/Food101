{
 "cells": [
  {
   "cell_type": "markdown",
   "metadata": {},
   "source": [
    "## Accuracy on test set"
   ]
  },
  {
   "cell_type": "code",
   "execution_count": 4,
   "metadata": {},
   "outputs": [
    {
     "name": "stderr",
     "output_type": "stream",
     "text": [
      "Using TensorFlow backend.\n"
     ]
    }
   ],
   "source": [
    "from keras.models import Model\n",
    "from keras.preprocessing.image import ImageDataGenerator\n",
    "from keras import backend as K\n",
    "from keras.models import load_model\n",
    "import numpy as np"
   ]
  },
  {
   "cell_type": "code",
   "execution_count": null,
   "metadata": {},
   "outputs": [],
   "source": [
    "model = load_model('fully_trained_resnet.h5', compile=True)"
   ]
  },
  {
   "cell_type": "code",
   "execution_count": 2,
   "metadata": {},
   "outputs": [
    {
     "data": {
      "text/plain": [
       "array([1.39804329e-76, 1.39804329e-76, 1.39642638e-76, ...,\n",
       "       1.39804460e-76, 1.39804329e-76, 1.18295070e-76])"
      ]
     },
     "execution_count": 2,
     "metadata": {},
     "output_type": "execute_result"
    }
   ],
   "source": [
    "preds"
   ]
  },
  {
   "cell_type": "code",
   "execution_count": 106,
   "metadata": {},
   "outputs": [
    {
     "name": "stdout",
     "output_type": "stream",
     "text": [
      "Found 25250 images belonging to 101 classes.\n"
     ]
    }
   ],
   "source": [
    "datagen = ImageDataGenerator(rescale=1./255)\n",
    "samples = datagen.flow_from_directory('/home/jupyter/data/test',\n",
    "                                      class_mode='categorical',\n",
    "                                      batch_size=1,\n",
    "                                      shuffle=False,\n",
    "                                      target_size=(512,512))\n",
    "samples.shuffle = False\n",
    "samples.reset()\n",
    "nums_labels = samples.classes"
   ]
  },
  {
   "cell_type": "code",
   "execution_count": 3,
   "metadata": {},
   "outputs": [],
   "source": [
    "test_preds = model.predict_generator(samples, steps=25250)"
   ]
  },
  {
   "cell_type": "code",
   "execution_count": 4,
   "metadata": {},
   "outputs": [],
   "source": [
    "from sklearn.metrics import accuracy_score"
   ]
  },
  {
   "cell_type": "code",
   "execution_count": 5,
   "metadata": {},
   "outputs": [
    {
     "data": {
      "text/plain": [
       "array([  0,   0,   8, ..., 100, 100, 100])"
      ]
     },
     "execution_count": 5,
     "metadata": {},
     "output_type": "execute_result"
    }
   ],
   "source": [
    "test_preds.argmax(axis=1)-1"
   ]
  },
  {
   "cell_type": "code",
   "execution_count": 6,
   "metadata": {},
   "outputs": [
    {
     "data": {
      "text/plain": [
       "array([  0,   0,   0, ..., 100, 100, 100], dtype=int32)"
      ]
     },
     "execution_count": 6,
     "metadata": {},
     "output_type": "execute_result"
    }
   ],
   "source": [
    "labels"
   ]
  },
  {
   "cell_type": "code",
   "execution_count": 7,
   "metadata": {},
   "outputs": [
    {
     "data": {
      "text/plain": [
       "0.8335841584158415"
      ]
     },
     "execution_count": 7,
     "metadata": {},
     "output_type": "execute_result"
    }
   ],
   "source": [
    "accuracy_score(labels, test_preds.argmax(axis=1)-1)"
   ]
  },
  {
   "cell_type": "markdown",
   "metadata": {},
   "source": [
    "## Test Time Augmentation"
   ]
  },
  {
   "cell_type": "code",
   "execution_count": 31,
   "metadata": {},
   "outputs": [
    {
     "name": "stdout",
     "output_type": "stream",
     "text": [
      "Found 25250 images belonging to 101 classes.\n"
     ]
    }
   ],
   "source": [
    "# Prepare data for TTA\n",
    "datagen = ImageDataGenerator(rescale=1./255)\n",
    "samples = datagen.flow_from_directory('/home/jupyter/data/test',\n",
    "                                      class_mode='categorical',\n",
    "                                      batch_size=1,\n",
    "                                      shuffle=False,\n",
    "                                      target_size=(512,512))\n",
    "samples.shuffle = False\n",
    "samples.reset()\n",
    "labels = samples.classes"
   ]
  },
  {
   "cell_type": "code",
   "execution_count": 3,
   "metadata": {},
   "outputs": [],
   "source": [
    "def test_time_prediction(datagen, model, image, n_examples=7):\n",
    "    augmenter = datagen.flow(image[0], batch_size=1)\n",
    "    augmenter.shuffle = False\n",
    "    augmenter.reset()\n",
    "    preds = model.predict_generator(augmenter, steps=n_examples, verbose=0)\n",
    "    all_preds = np.mean(preds, axis=0)\n",
    "    pred = np.argmax(all_preds, axis=-1)\n",
    "    return pred, all_preds"
   ]
  },
  {
   "cell_type": "code",
   "execution_count": 5,
   "metadata": {},
   "outputs": [],
   "source": [
    "from sklearn.metrics import accuracy_score\n",
    "from keras.metrics import top_k_categorical_accuracy\n",
    "\n",
    "def test_time_augmentation(model, X_samples, y_labels):\n",
    "    datagen = ImageDataGenerator(rescale=1./255, \n",
    "                                 brightness_range=[0.7,1.3],\n",
    "                                 rotation_range=30,\n",
    "                                 horizontal_flip=True,\n",
    "                                 zoom_range=[0.7,1.3],\n",
    "                                 fill_mode='nearest')\n",
    "    examples_per_image = 11\n",
    "    preds = []\n",
    "    all_preds = []\n",
    "    for i in range(len(X_samples)):\n",
    "        if ((i % 500) == 0):\n",
    "            print(i, 'Predictions Complete')\n",
    "        pred, all_preds = test_time_prediction(datagen, model, X_samples[i], examples_per_image)\n",
    "        preds.append(pred)\n",
    "    return y_labels, preds, all_preds "
   ]
  },
  {
   "cell_type": "code",
   "execution_count": 6,
   "metadata": {},
   "outputs": [
    {
     "name": "stdout",
     "output_type": "stream",
     "text": [
      "0 Predictions Complete\n",
      "500 Predictions Complete\n",
      "1000 Predictions Complete\n",
      "1500 Predictions Complete\n",
      "2000 Predictions Complete\n",
      "2500 Predictions Complete\n",
      "3000 Predictions Complete\n",
      "3500 Predictions Complete\n",
      "4000 Predictions Complete\n",
      "4500 Predictions Complete\n",
      "5000 Predictions Complete\n",
      "5500 Predictions Complete\n",
      "6000 Predictions Complete\n",
      "6500 Predictions Complete\n",
      "7000 Predictions Complete\n",
      "7500 Predictions Complete\n",
      "8000 Predictions Complete\n",
      "8500 Predictions Complete\n",
      "9000 Predictions Complete\n",
      "9500 Predictions Complete\n",
      "10000 Predictions Complete\n",
      "10500 Predictions Complete\n",
      "11000 Predictions Complete\n",
      "11500 Predictions Complete\n",
      "12000 Predictions Complete\n",
      "12500 Predictions Complete\n",
      "13000 Predictions Complete\n",
      "13500 Predictions Complete\n",
      "14000 Predictions Complete\n",
      "14500 Predictions Complete\n",
      "15000 Predictions Complete\n",
      "15500 Predictions Complete\n",
      "16000 Predictions Complete\n",
      "16500 Predictions Complete\n",
      "17000 Predictions Complete\n",
      "17500 Predictions Complete\n",
      "18000 Predictions Complete\n",
      "18500 Predictions Complete\n",
      "19000 Predictions Complete\n",
      "19500 Predictions Complete\n",
      "20000 Predictions Complete\n",
      "20500 Predictions Complete\n",
      "21000 Predictions Complete\n",
      "21500 Predictions Complete\n",
      "22000 Predictions Complete\n",
      "22500 Predictions Complete\n",
      "23000 Predictions Complete\n",
      "23500 Predictions Complete\n",
      "24000 Predictions Complete\n",
      "24500 Predictions Complete\n",
      "25000 Predictions Complete\n"
     ]
    }
   ],
   "source": [
    "y_labels, preds, all_preds = test_time_augmentation(model, samples, labels)"
   ]
  },
  {
   "cell_type": "code",
   "execution_count": 7,
   "metadata": {},
   "outputs": [
    {
     "data": {
      "text/plain": [
       "[1, 1, 1, 1, 1, 1, 22, 1, 1, 1]"
      ]
     },
     "execution_count": 7,
     "metadata": {},
     "output_type": "execute_result"
    }
   ],
   "source": [
    "preds[:10]"
   ]
  },
  {
   "cell_type": "code",
   "execution_count": 8,
   "metadata": {},
   "outputs": [
    {
     "data": {
      "text/plain": [
       "array([1, 1, 1, 1, 1, 1, 1, 1, 1, 1], dtype=int32)"
      ]
     },
     "execution_count": 8,
     "metadata": {},
     "output_type": "execute_result"
    }
   ],
   "source": [
    "y_labels[:10] + 1"
   ]
  },
  {
   "cell_type": "code",
   "execution_count": 9,
   "metadata": {},
   "outputs": [
    {
     "name": "stdout",
     "output_type": "stream",
     "text": [
      "0.8533465346534653\n"
     ]
    }
   ],
   "source": [
    "acc = accuracy_score(y_labels+1, preds)\n",
    "print(acc)"
   ]
  },
  {
   "cell_type": "code",
   "execution_count": 6,
   "metadata": {},
   "outputs": [],
   "source": [
    "import numpy as np"
   ]
  },
  {
   "cell_type": "code",
   "execution_count": 12,
   "metadata": {},
   "outputs": [],
   "source": [
    "preds = np.asarray(preds)\n",
    "np.savetxt('preds.csv', preds, delimiter=',')\n",
    "\n",
    "y_labels = np.asarray(y_labels)\n",
    "np.savetxt('y_labels.csv', y_labels, delimiter=',')\n",
    "\n",
    "np.savetxt('all_preds.csv', all_preds, delimiter=',')"
   ]
  },
  {
   "cell_type": "markdown",
   "metadata": {},
   "source": [
    "# Plot Confusion Matrix"
   ]
  },
  {
   "cell_type": "code",
   "execution_count": 22,
   "metadata": {},
   "outputs": [],
   "source": [
    "preds = np.loadtxt('preds.csv').astype(int)\n",
    "y_labels = np.loadtxt('y_labels.csv').astype(int)"
   ]
  },
  {
   "cell_type": "code",
   "execution_count": 25,
   "metadata": {},
   "outputs": [],
   "source": [
    "y_labels += 1"
   ]
  },
  {
   "cell_type": "code",
   "execution_count": 74,
   "metadata": {},
   "outputs": [
    {
     "data": {
      "text/plain": [
       "array([  1,   1,   1, ..., 101, 101, 101])"
      ]
     },
     "execution_count": 74,
     "metadata": {},
     "output_type": "execute_result"
    }
   ],
   "source": [
    "y_labels"
   ]
  },
  {
   "cell_type": "code",
   "execution_count": 54,
   "metadata": {},
   "outputs": [],
   "source": [
    "import pandas as pd\n",
    "labels = pd.read_csv('food-101/meta/classes.txt', header=None)\n",
    "labels = labels[0].tolist() "
   ]
  },
  {
   "cell_type": "code",
   "execution_count": 77,
   "metadata": {},
   "outputs": [
    {
     "data": {
      "text/plain": [
       "101"
      ]
     },
     "execution_count": 77,
     "metadata": {},
     "output_type": "execute_result"
    }
   ],
   "source": [
    "len(np.unique(y_labels))"
   ]
  },
  {
   "cell_type": "code",
   "execution_count": 110,
   "metadata": {},
   "outputs": [
    {
     "data": {
      "text/plain": [
       "101"
      ]
     },
     "execution_count": 110,
     "metadata": {},
     "output_type": "execute_result"
    }
   ],
   "source": [
    "(len(np.unique(nums_labels)))"
   ]
  },
  {
   "cell_type": "code",
   "execution_count": 78,
   "metadata": {},
   "outputs": [
    {
     "data": {
      "text/plain": [
       "101"
      ]
     },
     "execution_count": 78,
     "metadata": {},
     "output_type": "execute_result"
    }
   ],
   "source": [
    "len(np.unique(preds))"
   ]
  },
  {
   "cell_type": "code",
   "execution_count": 79,
   "metadata": {},
   "outputs": [
    {
     "data": {
      "text/plain": [
       "101"
      ]
     },
     "execution_count": 79,
     "metadata": {},
     "output_type": "execute_result"
    }
   ],
   "source": [
    "len(labels)"
   ]
  },
  {
   "cell_type": "code",
   "execution_count": 103,
   "metadata": {},
   "outputs": [
    {
     "data": {
      "text/plain": [
       "101"
      ]
     },
     "execution_count": 103,
     "metadata": {},
     "output_type": "execute_result"
    }
   ],
   "source": [
    "len(np.unique(y_labels.astype(int)))"
   ]
  },
  {
   "cell_type": "code",
   "execution_count": 102,
   "metadata": {},
   "outputs": [
    {
     "data": {
      "text/plain": [
       "array([  1,   1,   1, ..., 101, 101, 101])"
      ]
     },
     "execution_count": 102,
     "metadata": {},
     "output_type": "execute_result"
    }
   ],
   "source": [
    "preds.astype(int)"
   ]
  },
  {
   "cell_type": "code",
   "execution_count": 111,
   "metadata": {},
   "outputs": [],
   "source": [
    "from sklearn.utils.multiclass import unique_labels\n",
    "from sklearn.metrics import confusion_matrix\n",
    "import matplotlib.pyplot as plt\n",
    "import numpy as np\n",
    "\n",
    "def plot_confusion_matrix(y_true, y_pred, classes,\n",
    "                          normalize=False,\n",
    "                          title='Confusion Matrix',\n",
    "                          cmap=plt.cm.Blues):\n",
    "    \"\"\"\n",
    "    This function prints and plots the confusion matrix.\n",
    "    Normalization can be applied by setting `normalize=True`.\n",
    "    \"\"\"\n",
    "    # Compute confusion matrix\n",
    "    cm = confusion_matrix(y_true, y_pred, labels=nums_labels)\n",
    "    fig, ax = plt.subplots(figsize=(20,20))\n",
    "    im = ax.imshow(cm, interpolation='nearest', cmap=cmap)\n",
    "    ax.figure.colorbar(im, ax=ax)\n",
    "    # We want to show all ticks...\n",
    "    ax.set(xticks=np.arange(cm.shape[1]-1),\n",
    "           yticks=np.arange(cm.shape[0]-1),\n",
    "           # ... and label them with the respective list entries\n",
    "           xticklabels=classes, yticklabels=classes,\n",
    "           title=title,\n",
    "           ylabel='True label',\n",
    "           xlabel='Predicted label')\n",
    "\n",
    "    # Rotate the tick labels and set their alignment.\n",
    "    plt.setp(ax.get_xticklabels(), rotation=45, ha=\"right\",\n",
    "             rotation_mode=\"anchor\")\n",
    "\n",
    "    # Loop over data dimensions and create text annotations.\n",
    "    fmt = '.2f' if normalize else 'd'\n",
    "    thresh = cm.max() / 2.\n",
    "    for i in range(1, cm.shape[0]):\n",
    "        for j in range(cm.shape[1]-1):\n",
    "            ax.text(j, i, format(cm[i, j], fmt),\n",
    "                    ha=\"center\", va=\"center\",\n",
    "                    color=\"white\" if cm[i, j] > thresh else \"black\")\n",
    "    plt.show()\n",
    "    return ax, cm"
   ]
  },
  {
   "cell_type": "code",
   "execution_count": null,
   "metadata": {},
   "outputs": [],
   "source": [
    "_, cm = plot_confusion_matrix(y_labels+1, preds, classes=labels)"
   ]
  },
  {
   "cell_type": "code",
   "execution_count": 98,
   "metadata": {},
   "outputs": [
    {
     "data": {
      "text/plain": [
       "array([[  0,   0,   0, ...,   0,   0,   0],\n",
       "       [180,   1,   1, ...,   0,   4,   0],\n",
       "       [  0, 209,   0, ...,   0,   0,   0],\n",
       "       ...,\n",
       "       [  3,   0,   0, ...,   0,   1,   0],\n",
       "       [  0,   0,   0, ..., 187,   0,   0],\n",
       "       [  1,   0,   0, ...,   0, 235,   0]])"
      ]
     },
     "execution_count": 98,
     "metadata": {},
     "output_type": "execute_result"
    }
   ],
   "source": [
    "cm"
   ]
  },
  {
   "cell_type": "code",
   "execution_count": 71,
   "metadata": {},
   "outputs": [],
   "source": [
    "def most_confused(matrix, classes):\n",
    "    class_count = 0\n",
    "    confused = []\n",
    "    for _class in matrix: \n",
    "        print(_class)\n",
    "        label_count = 0\n",
    "        for label in _class:\n",
    "            if class_count == label_count:\n",
    "                pass\n",
    "            else:\n",
    "                print(label)\n",
    "                if label > 10:\n",
    "                    confused.append([label, classes[class_count], classes[label_count]])\n",
    "    return confused"
   ]
  },
  {
   "cell_type": "code",
   "execution_count": 72,
   "metadata": {},
   "outputs": [
    {
     "name": "stdout",
     "output_type": "stream",
     "text": [
      "[0 0 0 0 0 0 0 0 0 0 0 0 0 0 0 0 0 0 0 0 0 0 0 0 0 0 0 0 0 0 0 0 0 0 0 0 0\n",
      " 0 0 0 0 0 0 0 0 0 0 0 0 0 0 0 0 0 0 0 0 0 0 0 0 0 0 0 0 0 0 0 0 0 0 0 0 0\n",
      " 0 0 0 0 0 0 0 0 0 0 0 0 0 0 0 0 0 0 0 0 0 0 0 0 0 0 0 0]\n",
      "[180   1   1   0   0   0   3   0  12   2   2   0   5   0   3   0   0   1\n",
      "   0   2   0   1   0   0   0   0   2   0   0   0   0   3   0   0   0   0\n",
      "   0   0   0   5   0   0   5   0   0   0   3   0   0   1   1   0   0   0\n",
      "   0   0   0   3   2   2   0   0   0   0   0   0   0   0   0   0   0   0\n",
      "   2   0   0   0   0   0   0   0   0   0   0   0   0   0   0   0   0   1\n",
      "   0   0   0   0   0   1   0   0   2   0   4   0]\n",
      "[  0 209   0   0   0   1   0   0   0   0   0   0   0   0   0   0   0   1\n",
      "   1   0   1   1   0   0   0   0   0   0   0   0   0   0   0   0   1   0\n",
      "   1   2   0   0   1   0   1   0   0   0   0   0   0   0   0   0   0   0\n",
      "   0   0   0   0   0   0   0   0   0   0   0   0   0   0   1   0   0   1\n",
      "   0   0   4   0   0  10   0   0   1   0   0   0   0   0   0   0   0   0\n",
      "   0   0   0  13   0   0   0   0   0   0   0   0]\n",
      "[  9   0 220   0   0   0   2   0   2   1   0   1   0   0   0   0   0   0\n",
      "   1   0   1   0   0   1   0   0   1   0   1   0   0   1   0   1   0   0\n",
      "   0   0   0   0   0   0   2   0   1   0   3   0   0   0   1   0   0   0\n",
      "   0   0   0   0   0   0   0   0   0   0   0   0   0   0   0   0   0   0\n",
      "   0   0   1   0   0   0   0   0   0   0   0   0   0   0   0   0   0   0\n",
      "   0   0   0   0   0   0   0   0   0   0   0   0]\n",
      "[  0   0   0 222   2   5   0   0   0   0   1   1   0   1   0   0   0   0\n",
      "   0   0   0   1   0   0   0   0   1   0   0   0   0   0   0   0   0   0\n",
      "   0   0   0   1   0   0   0   0   0   0   0   0   0   0   1   0   0   0\n",
      "   0   1   0   1   0   1   0   0   0   0   0   0   0   0   0   0   0   0\n",
      "   0   0   3   0   0   1   0   0   0   1   2   0   0   0   1   0   0   0\n",
      "   0   0   0   1   0   0   0   0   0   2   0   0]\n",
      "[  0   0   0   0 200   6   0   0   0   0   3   1   0   1   0   0   1   0\n",
      "   0   0   0   0   0   0   0   0   4   0   0   0   0   0   0   0   1   1\n",
      "   0   1   0   4   1   0   1   0   0   0   0   0   0   1   0   0   0   2\n",
      "   0   0   1   0   0   0   0   0   0   0   0   0   0   0   0   0   0   1\n",
      "   0   0   1   0   0   1   0   0   1   0   0   1   0   0   0   0   0   0\n",
      "   0   0   0   0   0   0   0   0   0  16   0   0]\n",
      "[  0   0   0   1   0 203   0   1   0   0   1   9   0   4   0   0   2   0\n",
      "   0   0   0   0   2   0   0   0   0   0   0   0   0   0   0   0   0   0\n",
      "   0   0   0   5   0   0   0   0   0   0   0   1   2   0   1   0   0   2\n",
      "   0   0   0   1   0   0   0   0   0   0   0   0   0   0   0   0   0   0\n",
      "   0   0   2   0   0   0   0   0   2   0   1   0   0   0   2   0   2   0\n",
      "   0   0   0   1   1   1   1   0   0   2   0   0]\n",
      "[  4   0   0   0   0   0 226   0   0   0   0   0   0   0   0   0   0   0\n",
      "   0   0   0   0   0   1   0   0   0   0   0   0   0   9   0   0   0   0\n",
      "   1   0   0   0   0   0   2   0   0   0   1   1   0   0   0   0   0   0\n",
      "   0   0   0   0   0   0   0   0   0   0   0   0   0   0   0   0   0   0\n",
      "   2   0   0   0   0   0   0   0   0   0   0   0   0   1   0   0   0   0\n",
      "   0   0   0   0   0   0   0   1   0   0   1   0]\n",
      "[  0   0   0   0   0   0   0 230   0   0   0   0   0   0   0   0   0   0\n",
      "   1   0   0   0   0   0   0   1   0   0   2   0   0   0   0   0   0   0\n",
      "   0   0   0   0   0   0   0   0   5   0   0   0   2   0   1   0   0   0\n",
      "   0   0   0   1   0   0   0   0   0   0   0   0   0   0   0   0   1   2\n",
      "   0   0   0   0   0   0   1   0   0   0   0   0   0   0   0   0   1   0\n",
      "   1   0   0   0   0   0   0   0   0   1   0   0]\n",
      "[ 17   2   2   1   0   0   1   0 159   1   0   1   0   0   1   0   0   7\n",
      "   0   0   0   1   3   0   0   0   1   1   1   0   0   0   0   0   0   0\n",
      "   0   1   0   6   0   3   8   0   0   1   0   2   0   1   2   0   1   0\n",
      "   0   0   0   0   3   4   0   0   0   0   0   0   0   0   0   0   0   0\n",
      "   2   1   2   0   0   4   0   0   0   1   0   1   0   0   0   1   0   0\n",
      "   0   0   0   3   1   0   0   0   2   0   1   0]\n",
      "[  1   0   1   0   0   0   0   0   1 203   2   0   1   0   0   1   1   0\n",
      "   1   7   0   0   0   0   0   2   0   0   0   0   0   1   0   0   1   0\n",
      "   3   0   0   0   0   0   0   0   0   0   0   0   0   0   1   1   0   0\n",
      "   0   1   7   0   0   2   0   0   0   0   0   0   0   3   0   0   0   0\n",
      "   1   0   0   0   0   0   0   0   2   0   0   0   0   0   0   0   0   0\n",
      "   0   0   1   1   0   0   4   0   0   0   0   0]\n",
      "[  1   0   0   1   3   3   0   1   0   0 197   1   0   9   0   1   0   0\n",
      "   0   0   0   0   0   0   0   0   1   0   0   0   0   0   0   1   1   0\n",
      "   0   1   0   1   0   0   1   1   0   0   3   0   1   2   5   0   0   0\n",
      "   0   0   0   1   0   0   0   0   0   0   0   0   1   0   0   0   0   0\n",
      "   0   0   0   0   0   0   0   0   0   0   0   0   0   0   0   0   1   0\n",
      "   0   0   1   0   0   0   0   0   0  10   1   0]\n",
      "[  0   0   1   0   0   0   0   0   0   0   0 233   0   0   0   1   0   0\n",
      "   0   0   0   0   0   0   0   0   0   0   0   0   0   0   0   0   0   0\n",
      "   0   0   0   1   0   0   0   1   0   0   1   0   3   0   1   0   0   1\n",
      "   0   0   0   1   0   1   1   0   0   0   0   0   0   0   0   0   0   0\n",
      "   0   0   0   0   0   0   0   0   0   0   1   0   0   1   0   1   1   0\n",
      "   0   0   0   0   0   0   0   0   0   0   0   0]\n",
      "[  3   0   1   0   0   0   1   0   0   0   0   0 230   2   0   0   0   0\n",
      "   0   0   0   0   1   0   0   0   0   0   0   1   0   0   1   0   0   0\n",
      "   1   0   0   1   0   0   1   0   0   0   0   0   0   0   1   0   0   0\n",
      "   0   0   0   0   0   0   0   0   0   0   0   0   0   1   0   0   0   0\n",
      "   2   0   1   0   0   0   0   0   0   0   0   0   0   0   0   0   0   0\n",
      "   0   0   1   0   0   0   0   0   0   0   1   0]\n",
      "[  0   0   0   3   0   5   0   0   0   0   1   2   0 220   0   1   2   0\n",
      "   0   0   0   0   0   0   0   0   1   0   0   0   1   0   0   0   1   0\n",
      "   2   0   0   1   0   0   0   0   0   0   0   0   3   0   0   0   0   1\n",
      "   0   0   0   0   0   0   0   0   0   0   0   0   0   0   0   0   0   0\n",
      "   0   0   0   0   0   0   0   0   0   0   1   0   0   0   0   0   0   1\n",
      "   0   0   0   1   0   0   0   1   1   1   0   0]\n",
      "[  2   0   0   0   0   0   0   0   1   0   0   0   0   0 210   0   0   2\n",
      "   0   1   0   3   1   0   0   0   0   0   0   1   0   0   0   0   1   0\n",
      "   0   0   0   1   0   0   1   1   0   0   1   0   0   1   0   1   0   0\n",
      "   0   2   1   0   1   0   0   0   0   0   0   0   0   1   0   0   1   0\n",
      "   0   0   0   0   0   0   1   0   0   0   0  11   0   0   0   0   0   0\n",
      "   0   0   0   0   1   1   0   0   2   0   0   0]\n",
      "[  0   0   0   0   0   4   0   0   0   0   1   5   0   1   0 178   1   0\n",
      "   3   1   1   0   0   0   0   0   1   0   0   0   0   0   0   0   0   0\n",
      "   0   1   0   1   0   0   0   2   1   0   0   2   1   0   0   5   0   0\n",
      "   1   1   1   2   1   0   1   1   0   0   0   1   1   2   0   0   1   1\n",
      "   0   1   0   0   0   1   1   0   0   1   2   1   0   0   0   4   0   3\n",
      "   0   0   0   0   1   2   5   0   0   5   0   0]\n",
      "[  0   0   0   0   0   0   1   0   0   0   1   1   0   0   0   1 221   3\n",
      "   0   0   0   0   0   0   0   0   0   0   1   0   0   0   0   0   0   1\n",
      "   0   0   0   5   0   0   2   0   0   0   2   0   0   0   0   0   0   0\n",
      "   0   0   0   0   2   0   0   0   0   1   0   0   0   0   0   0   0   0\n",
      "   0   1   0   0   0   0   0   1   0   0   0   0   0   0   2   1   0   0\n",
      "   0   0   0   0   1   1   0   0   0   1   0   0]\n",
      "[  5   0   2   0   1   0   0   0   5   0   0   0   0   0   7   0   1 187\n",
      "   1   0   0   5   2   0   1   0   0   1   0   2   1   1   0   0   0   0\n",
      "   0   0   0   1   0   0   2   0   0   0   0   0   0   0   0   0   0   0\n",
      "   0   0   0   0   1   0   0   1   0   0   0   0   0   0   0   0   0   0\n",
      "   1   5   1   0   0   0   0   1   0   0   0   6   0   0   0   0   0   0\n",
      "   0   0   0   0   4   0   0   0   5   0   0   0]\n",
      "[  1   0   0   0   0   0   0   0   1   0   0   0   0   0   0   2   0   0\n",
      " 212   0   0   0   0   0   0   1   1   0   0   0   0   0   0   0   0   0\n",
      "   0   0   0   0   0   1   0   0   1   0   1   0   1   0   0   0   0   0\n",
      "   0   0   0   0   0   0   6   0   0   0   0   0   1   1   0   0   0   3\n",
      "   1   0   4   0   1   1   0   0   0   4   1   0   0   0   0   0   0   3\n",
      "   0   0   0   1   0   1   0   0   0   0   0   0]\n",
      "[  1   0   0   0   0   0   0   0   0   9   1   0   0   0   0   1   0   0\n",
      "   0 213   0   0   0   0   0   2   0   0   0   0   0   0   0   0   1   0\n",
      "   2   0   0   0   0   0   0   0   0   0   0   0   0   1   1   1   1   0\n",
      "   0   0   2   2   0   1   0   0   1   0   0   0   3   0   0   0   0   0\n",
      "   0   0   0   0   2   0   0   0   0   0   0   0   0   0   0   0   0   0\n",
      "   0   0   0   0   0   0   4   0   0   1   0   0]\n",
      "[  0   1   0   0   0   0   1   1   1   1   0   0   0   0   0   0   0   0\n",
      "   0   0 229   0   0   0   0   0   0   0   0   0   0   0   0   0   0   0\n",
      "   0   0   1   0   0   0   1   4   0   0   0   0   0   0   1   0   0   0\n",
      "   0   0   0   0   0   0   0   0   0   0   0   0   0   0   1   0   0   0\n",
      "   0   0   0   0   0   5   0   0   0   0   0   0   0   0   0   1   0   0\n",
      "   0   0   1   0   0   0   0   1   0   0   0   0]\n",
      "[  1   0   0   1   0   1   0   0   1   1   0   0   1   0   6   0   0   5\n",
      "   0   0   0 199  15   0   0   0   0   0   0   4   0   1   0   0   0   0\n",
      "   0   1   0   2   0   0   2   0   0   0   0   0   0   0   0   0   0   0\n",
      "   0   0   0   0   1   0   0   0   0   0   0   0   0   0   0   0   0   0\n",
      "   0   0   0   0   0   0   0   0   0   0   0   5   0   0   0   0   0   0\n",
      "   0   0   0   2   0   0   0   0   1   0   0   0]\n",
      "[  1   0   0   0   1   0   1   0   1   0   0   0   1   1   2   1   0   3\n",
      "   0   0   0  23 163   0   0   0   0   1   0   1   0   1   0   0   1   0\n",
      "   0   2   0   9   0   2   1   0   0   0   0   0   0   0   0   1   0   0\n",
      "   0   0   0   0   3   1   3   0   0   2   1   0   0   1   0   0   0   1\n",
      "   1   6   1   0   0   0   0   0   0   1   0   1   0   0   0   1   1   0\n",
      "   0   0   0   0   3   0   0   0   5   1   0   0]\n",
      "[  0   0   1   0   0   0   1   0   1   0   1   0   0   0   0   0   0   0\n",
      "   0   0   0   0   0 235   0   0   0   0   0   0   0   1   0   0   0   0\n",
      "   0   0   0   0   0   0   0   1   0   0   2   0   0   0   0   0   0   0\n",
      "   0   1   0   0   0   0   0   0   0   0   0   0   0   0   3   0   0   0\n",
      "   1   0   0   0   0   0   0   0   0   0   0   0   0   0   0   0   0   0\n",
      "   0   0   0   0   0   0   0   0   0   0   2   0]\n",
      "[  0   0   0   0   0   0   0   0   0   0   0   2   0   0   0   1   1   0\n",
      "   1   0   0   0   0   0 214   0   0   1   1   0   0   0   0   0   0   1\n",
      "   0   0   0   0   0   1   0   0   0   0   0   1   0   1   0   0   0   0\n",
      "   0   0   0   0   1   1  17   0   0   0   0   0   0   0   0   0   0   0\n",
      "   0   0   0   0   0   0   0   0   0   1   3   0   2   0   0   0   0   0\n",
      "   0   0   0   0   0   0   0   0   0   0   0   0]\n",
      "[  0   0   0   0   0   0   0   0   0   1   0   0   0   0   0   1   0   0\n",
      "   0   0   0   0   0   0   0 223   0   0   0   0   0   0   0   0   0   0\n",
      "   0   0   0   1   0   0   0   0   0   0   0   0   0  18   0   0   0   3\n",
      "   0   1   0   0   0   0   0   0   0   0   0   0   0   0   0   0   0   0\n",
      "   0   0   0   0   0   0   0   0   2   0   0   0   0   0   0   0   0   0\n",
      "   0   0   0   0   0   0   0   0   0   0   0   0]\n",
      "[  1   0   0   0   1   1   1   0   0   0   1   1   0   0   2   2   0   0\n",
      "   0   0   0   0   0   0   0   0 200   0   2   0   0   2   0   0   2   0\n",
      "   6   1   2   1   0   0   0   1   0   0   0   0   1   0   3   0   1   0\n",
      "   0   0   1   0   0   0   0   1   0   0   0   0   0   0   0   0   1   0\n",
      "   0   0   0   0   0   4   0   0   1   0   0   0   0   0   0   4   0   0\n",
      "   0   1   0   0   0   1   1   0   0   3   0   0]\n",
      "[  0   0   0   0   1   0   0   0   2   0   0   0   0   0   0   0   0   2\n",
      "   1   0   0   0   1   0   0   0   0 226   0   0   0   0   0   0   0   1\n",
      "   0   0   0   1   0   1   0   0   0   1   1   0   0   0   0   0   0   0\n",
      "   0   0   0   0   0   1   2   0   0   1   0   0   0   1   0   0   0   0\n",
      "   2   4   0   0   0   0   0   0   0   0   1   0   0   0   0   0   0   0\n",
      "   0   0   0   0   0   0   0   0   0   0   0   0]\n",
      "[  0   0   1   0   0   0   0   0   0   1   1   1   0   0   0   0   0   0\n",
      "   0   0   0   0   0   0   0   0   0   0 228   0   0   0   0   0   5   0\n",
      "   0   0   1   0   1   0   1   0   0   0   0   0   0   6   1   0   0   0\n",
      "   0   0   1   0   0   0   0   1   0   0   0   0   0   0   0   0   0   0\n",
      "   0   0   0   0   0   0   0   0   0   0   0   0   0   0   0   0   0   0\n",
      "   0   0   0   1   0   0   0   0   0   0   0   0]\n",
      "[  1   0   0   0   0   0   0   0   0   0   0   0   0   0   0   0   0   0\n",
      "   0   0   0   4   4   0   0   0   0   0   0 227   0   1   0   0   0   0\n",
      "   0   0   0   0   0   0   0   0   0   1   0   0   0   0   0   0   0   0\n",
      "   0   0   0   1   2   0   0   0   1   0   0   0   0   0   0   0   0   0\n",
      "   0   0   0   0   0   0   1   0   0   0   0   4   0   0   0   0   0   0\n",
      "   0   0   0   0   1   1   0   1   0   0   0   0]\n",
      "[  0   0   0   0   0   1   0   0   0   0   1   0   0   0   0   0   0   1\n",
      "   0   0   0   0   0   0   0   1   0   0   0   1 233   0   0   0   1   1\n",
      "   0   0   0   0   0   0   0   0   0   0   0   0   0   0   0   0   0   1\n",
      "   0   0   0   2   0   0   0   0   0   1   0   0   0   1   0   0   0   0\n",
      "   0   0   0   0   0   0   0   0   0   0   1   0   0   0   0   0   0   1\n",
      "   0   0   0   0   0   0   1   0   0   2   0   0]\n",
      "[  0   1   0   0   0   0   9   0   0   0   0   0   2   0   3   0   0   0\n",
      "   0   0   0   0   1   2   0   0   0   0   0   2   0 222   0   0   0   0\n",
      "   1   0   0   0   0   0   0   0   1   1   0   0   0   1   0   0   0   0\n",
      "   0   0   0   0   0   0   0   0   0   0   0   0   0   0   1   0   0   0\n",
      "   1   0   0   0   1   0   0   0   0   0   0   1   0   0   0   0   0   0\n",
      "   0   0   0   0   0   0   0   0   0   0   0   0]\n",
      "[  0   0   0   0   0   0   0   1   0   0   0   0   0   0   0   2   0   0\n",
      "   1   0   0   0   0   0   1   0   0   0   0   0   0   0 225   0   0   0\n",
      "   0   0   0   1   0   0   0   0   0   0   0   0   0   0   0   0  12   0\n",
      "   0   0   0   0   0   0   0   0   0   0   0   1   0   0   0   0   0   0\n",
      "   0   0   0   0   0   0   0   0   0   0   2   0   0   0   1   1   0   0\n",
      "   0   0   1   0   0   0   0   0   0   1   0   0]\n",
      "[  0   0   0   0   0   0   0   0   0   0   0   0   0   0   0   0   0   0\n",
      "   0   0   0   0   0   0   0   0   0   0   0   0   0   0   0 249   0   0\n",
      "   0   0   0   0   0   0   0   0   0   0   0   0   0   0   0   0   0   0\n",
      "   0   0   0   0   0   0   0   0   0   0   0   0   0   0   0   0   0   0\n",
      "   0   0   0   0   0   0   0   0   0   0   0   0   0   0   0   0   0   0\n",
      "   0   0   1   0   0   0   0   0   0   0   0   0]\n",
      "[  0   0   0   0   0   0   0   0   1   0   0   0   0   0   0   1   0   0\n",
      "   0   0   0   0   0   1   0   0   1   0   8   0   0   0   0   0 227   0\n",
      "   0   0   0   0   0   0   1   0   0   0   0   0   0   1   0   0   0   1\n",
      "   0   0   2   0   0   0   0   0   0   0   0   0   0   1   0   1   0   0\n",
      "   0   1   0   0   0   0   1   0   1   0   0   0   0   0   1   0   0   0\n",
      "   0   0   0   0   0   0   0   0   0   0   0   0]\n",
      "[  0   0   0   0   0   1   1   0   1   0   0   0   0   0   0   0   0   0\n",
      "   0   0   0   0   0   0   0   0   0   0   1   0   0   0   0   0   0 226\n",
      "   0   3   0   1   0   3   0   0   0   0   0   0   0   0   0   0   0   0\n",
      "   0   0   0   1   0   4   0   0   2   0   0   1   0   0   0   1   0   0\n",
      "   0   0   0   0   0   3   0   0   0   0   0   0   0   0   0   0   0   0\n",
      "   0   0   1   0   0   0   0   0   0   0   0   0]\n",
      "[  0   0   0   0   1   0   0   0   1   3   0   0   0   0   0   1   0   0\n",
      "   0   1   2   1   0   0   0   0  12   0   0   0   0   2   0   0   0   0\n",
      " 212   1   1   0   0   0   0   0   1   0   0   0   0   1   0   0   0   2\n",
      "   0   1   0   0   1   0   0   1   0   0   0   0   0   0   0   0   0   0\n",
      "   0   0   0   0   0   0   0   0   1   0   1   0   0   0   0   0   0   0\n",
      "   0   0   0   1   0   0   2   0   0   0   0   0]\n",
      "[  0   1   0   0   0   2   0   0   0   0   0   0   0   1   0   0   0   1\n",
      "   3   0   1   2   0   0   0   0   0   0   0   0   0   1   0   0   0   0\n",
      "   0 195   0   3   0   0   0   0   0   0   0   1   0   0   1   0   0   1\n",
      "   0   0   0   0   0   0   0   0   0   0   0   0   0   0   0   1   0   0\n",
      "   0   0   0   0   0   5   0   5   0   0   0   0   2   0   0   0   0   0\n",
      "   0   0   0  23   0   0   0   0   1   0   0   0]\n",
      "[  1   0   0   0   0   0   0   0   1   0   0   0   0   0   0   0   0   0\n",
      "   0   0   3   0   0   0   0   0   0   0   0   0   0   0   0   0   0   0\n",
      "   0   0 223   0   7   0   0   1   0   1   1   0   0   0   1   0   0   0\n",
      "   0   1   0   0   0   0   0   1   0   0   0   0   0   2   2   0   0   0\n",
      "   0   0   0   0   0   0   1   0   2   0   1   0   0   0   0   0   0   0\n",
      "   0   0   1   0   0   0   0   0   0   0   0   0]\n",
      "[  2   1   1   0   1   9   0   0   3   0   0   1   0   0   0   1   2   2\n",
      "   0   0   0   2   3   0   0   1   0   0   0   0   0   0   0   0   0   0\n",
      "   1   9   0 187   0   0   0   0   0   0   2   0   0   1   1   0   1   0\n",
      "   0   0   0   1   0   0   1   0   0   0   0   0   0   0   0   0   0   0\n",
      "   0   0   2   0   0   5   0   0   1   1   0   0   1   0   0   3   0   1\n",
      "   0   0   0   2   0   0   0   0   0   0   1   0]\n",
      "[  0   0   0   0   0   0   0   0   0   0   0   0   0   0   0   0   0   0\n",
      "   0   0   0   0   0   1   0   0   0   0   0   0   0   0   0   0   0   0\n",
      "   0   0   1   0 241   0   0   0   0   0   2   0   0   0   0   0   0   0\n",
      "   0   0   0   0   0   0   0   0   0   0   0   0   1   0   0   0   0   0\n",
      "   0   0   0   1   0   0   2   0   0   0   1   0   0   0   0   0   0   0\n",
      "   0   0   0   0   0   0   0   0   0   0   0   0]\n",
      "[  3   0   0   0   0   0   0   0   1   0   0   0   0   0   0   0   0   0\n",
      "   1   0   0   0   0   0   0   0   0   3   0   0   0   0   0   0   0   0\n",
      "   0   0   0   1   0 215   0   0   0   0   2   0   0   0   1   0   1   0\n",
      "   7   1   0   0   0   5   2   0   1   0   2   0   0   0   1   0   0   0\n",
      "   0   0   1   1   0   1   0   0   0   0   0   0   0   0   0   0   0   0\n",
      "   0   0   0   0   0   0   0   0   0   0   0   0]\n",
      "[  1   0   0   0   0   0   2   0   3   0   1   0   1   0   0   0   0   0\n",
      "   0   0   2   2   0   0   0   0   1   0   1   0   0   0   0   0   0   0\n",
      "   0   0   0   1   0   0 213   0   0   0   3   0   0   7   1   0   0   0\n",
      "   0   0   0   0   0   0   0   0   0   0   0   0   0   1   0   0   0   0\n",
      "   3   0   0   0   0   1   1   0   0   0   0   1   1   0   0   0   0   0\n",
      "   0   0   0   0   0   0   0   0   0   0   3   0]\n",
      "[  0   0   0   0   1   2   0   0   0   0   0   0   0   0   1   0   1   1\n",
      "   0   0   2   0   0   1   0   0   1   0   0   0   0   1   0   0   0   0\n",
      "   0   0   4   0   0   0   0 217   1   0   0   2   1   0   0   0   1   0\n",
      "   0   0   0   0   0   0   0   0   1   0   0   0   0   0   9   0   0   1\n",
      "   0   0   0   0   0   0   0   0   0   0   0   0   0   0   0   1   0   0\n",
      "   0   0   0   0   0   0   0   0   0   1   0   0]\n",
      "[  1   1   0   0   0   0   0   2   0   0   0   0   0   0   0   1   0   0\n",
      "   3   0   0   0   0   0   0   0   0   0   2   0   0   0   0   0   0   0\n",
      "   0   0   0   0   0   0   0   0 215   0   0   0   0   0   0   0   0   0\n",
      "   0   0   0   0   0   0   0   0   2   0   0   0   0   3   0   0   1  13\n",
      "   0   0   0   0   0   0   0   0   0   0   0   0   5   0   0   0   0   1\n",
      "   0   0   0   0   0   0   0   0   0   0   0   0]\n",
      "[  0   0   0   0   0   1   0   0   0   0   0   0   1   0   0   0   0   0\n",
      "   0   0   0   0   1   0   0   0   0   0   0   0   0   0   0   0   0   0\n",
      "   1   0   0   0   0   0   0   0   0 233   0   0   0   0   0   0   0   0\n",
      "   0   0   0   0  10   0   0   0   0   0   0   0   1   0   0   1   0   0\n",
      "   0   0   0   0   0   0   0   0   0   0   0   0   0   0   0   1   0   0\n",
      "   0   0   0   0   0   0   0   0   0   0   0   0]\n",
      "[  0   0   0   0   0   0   0   0   1   1   2   0   0   0   0   0   2   0\n",
      "   1   2   1   2   0   0   0   2   0   0   0   0   0   1   1   0   1   0\n",
      "   0   0   1   1   2   0   0   0   0   0 206   0   0   5   2   0   0   1\n",
      "   0   3   0   1   0   1   1   0   0   0   0   0   0   0   0   0   0   0\n",
      "   1   0   0   0   5   0   0   0   0   0   0   0   1   0   0   1   0   0\n",
      "   0   0   1   0   0   0   0   0   0   0   0   0]\n",
      "[  0   0   0   1   0   2   0   0   2   0   0   2   0   0   0   1   0   0\n",
      "   3   0   0   0   0   0   1   0   0   0   0   0   0   0   0   0   1   2\n",
      "   0   0   0   2   0   0   0   0   0   0   1 207   0   0   1   0   0   0\n",
      "   0   0   0   1   0   0   1   0   3   0   0   0   0   0   0   0   1   0\n",
      "   0   0   0   0   1   1   0   0   0   0   9   0   2   0   0   2   0   2\n",
      "   0   0   0   0   0   0   0   0   0   1   0   0]\n",
      "[  1   0   0   1   0  10   0   0   0   0   0  13   0   2   0   4   0   0\n",
      "   0   1   0   0   0   0   0   1   0   0   0   0   0   0   0   0   0   0\n",
      "   0   0   0   0   0   0   0   1   0   0   0   0 209   0   1   0   0   1\n",
      "   0   0   0   1   0   0   0   0   0   0   0   0   2   0   0   0   0   0\n",
      "   0   0   0   0   0   0   0   0   0   0   0   0   0   0   0   0   1   0\n",
      "   0   0   1   0   0   0   0   0   0   0   0   0]\n",
      "[  1   0   0   0   0   1   0   0   0   0   2   1   0   0   1   0   0   1\n",
      "   1   1   0   0   0   0   0   9   1   0   0   0   0   0   0   0   0   0\n",
      "   0   0   2   0   1   0   3   0   0   0   7   0   0 207   0   1   3   0\n",
      "   0   1   0   0   0   0   1   0   0   0   0   0   0   1   0   0   0   0\n",
      "   0   0   0   0   0   2   0   0   0   0   1   0   0   0   0   0   0   0\n",
      "   0   0   0   1   0   0   0   0   0   0   0   0]\n",
      "[  0   1   2   1   0   0   0   0   1   0   0   0   0   2   0   1   0   0\n",
      "   2   0   0   0   0   0   0   0   2   0   1   0   0   0   0   0   0   0\n",
      "   1   1   2   5   1   0   0   0   2   0   4   2   1   0 199   0   0   0\n",
      "   0   0   1   0   0   0   0   0   0   0   0   0   0   1   0   0   0   0\n",
      "   0   0   1   0   0   6   0   2   0   0   2   0   1   0   0   0   0   0\n",
      "   0   0   0   3   0   1   0   0   0   1   0   0]\n",
      "[  0   0   0   0   0   0   0   1   1   0   0   2   0   0   0   1   0   0\n",
      "   3   0   1   0   1   1   0   0   0   0   0   0   0   0   0   0   0   0\n",
      "   1   0   0   1   0   0   0   0   1   0   0   0   0   0   0 226   0   0\n",
      "   0   0   0   3   0   0   0   0   1   0   0   0   2   0   0   0   0   0\n",
      "   0   0   0   0   0   0   0   0   0   0   0   0   2   0   0   0   0   0\n",
      "   0   1   0   0   0   0   0   0   0   1   0   0]\n",
      "[  0   1   0   0   0   0   0   0   0   0   0   0   0   0   0   0   1   0\n",
      "   0   0   0   0   0   1   0   2   0   1   1   0   0   1   5   0   0   0\n",
      "   0   0   0   1   0   0   0   0   0   0   0   0   0   1   4   0 228   0\n",
      "   0   0   0   0   0   0   0   0   0   0   0   0   1   1   0   0   0   0\n",
      "   0   0   0   0   0   0   0   0   0   0   0   0   0   0   0   0   0   0\n",
      "   0   0   0   0   0   0   0   1   0   0   0   0]\n",
      "[  1   0   0   0   0   0   0   1   0   0   1   0   0   0   0   0   0   0\n",
      "   0   0   0   0   0   0   0   4   0   0   2   0   0   0   0   0   0   0\n",
      "   0   1   0   0   3   0   0   0   0   0   1   0   0   4   0   0   0 206\n",
      "   0   4   0   1   0   0   0   0   0   1   0   0   0   0   3   0   0   0\n",
      "   0   0   0   0   0   0   1   0  12   0   0   0   0   0   0   0   0   0\n",
      "   0   0   0   4   0   0   0   0   0   0   0   0]\n",
      "[  0   0   0   0   0   0   0   0   0   0   0   0   0   0   0   0   0   0\n",
      "   1   0   0   0   0   1   0   0   0   0   0   0   0   0   0   0   0   0\n",
      "   0   0   0   0   1   1   0   0   0   0   0   0   0   0   0   0   0   0\n",
      " 239   0   0   0   0   0   0   0   0   0   1   0   0   1   0   0   0   1\n",
      "   0   0   0   3   0   0   0   0   0   1   0   0   0   0   0   0   0   0\n",
      "   0   0   0   0   0   0   0   0   0   0   0   0]\n",
      "[  0   0   0   0   0   1   0   0   0   1   0   0   0   0   0   0   0   0\n",
      "   0   0   0   0   0   0   0   2   0   0   0   0   0   0   0   0   0   0\n",
      "   0   0   0   0   3   0   0   0   0   0   2   0   0   1   0   0   0   5\n",
      "   0 220   1   0   0   0   0   2   0   0   0   0   0   1   2   0   0   0\n",
      "   0   0   0   0   0   0   0   0   6   0   0   0   0   0   0   0   0   0\n",
      "   0   0   0   0   1   0   1   0   0   0   1   0]\n",
      "[  2   0   0   2   1   0   0   0   0   4   2   1   0   0   0   1   0   0\n",
      "   8   1   0   0   0   0   0   0   1   0   8   0   0   0   0   0   0   0\n",
      "   2   1   0   0   0   1   1   1   0   0   0   0   1   0   0   2   0   0\n",
      "   0   0 170   0   0   5   0   1   0   0   0   0   9   5   0   0   1   0\n",
      "   4   0   0   0   2   1   1   0   1   0   1   0   0   0   0   0   0   1\n",
      "   0   0   0   2   0   0   6   0   0   0   0   0]\n",
      "[  1   0   0   0   0   0   0   0   1   0   0   0   0   0   0   1   1   0\n",
      "   0   5   0   0   0   0   0   1   0   1   0   0   1   0   1   0   0   2\n",
      "   0   0   0   0   0   0   1   0   0   0   3   1   0   0   0   2   0   1\n",
      "   1   0   1 210   0   0   2   0   0   0   0   0   0   4   0   0   0   0\n",
      "   1   2   0   0   0   0   0   0   0   1   0   0   0   0   0   1   0   2\n",
      "   0   0   0   0   0   0   0   0   1   1   0   0]\n",
      "[  4   0   0   0   0   0   0   0   3   0   0   0   1   0   0   0   0   1\n",
      "   0   0   1   4   3   1   1   0   0   0   0   1   0   0   0   0   0   0\n",
      "   1   1   0   1   0   0   0   0   0  12   0   0   0   0   0   1   0   0\n",
      "   0   0   0   0 198   0   0   0   0   0   0   1   1   0   1   0   0   0\n",
      "   0   3   0   0   0   0   2   0   0   0   0   0   0   0   0   0   0   0\n",
      "   0   0   0   0   3   0   1   1   1   0   2   0]\n",
      "[  2   0   0   2   1   0   0   0   0   0   1   0   1   0   0   0   0   0\n",
      "   1   1   0   0   0   0   0   0   0   1   1   0   0   0   0   0   0   1\n",
      "   0   0   1   0   0   3   1   0   0   0   3   0   0   0   1   0   0   0\n",
      "   0   0   6   0   0 207   0   1   0   0   0   0   1   3   0   0   1   0\n",
      "   0   0   0   1   1   0   0   0   1   0   6   0   0   0   0   0   0   0\n",
      "   0   0   0   1   0   0   0   0   0   0   0   0]\n",
      "[  0   0   0   0   0   0   0   0   0   0   1   0   0   0   0   1   0   1\n",
      "   3   0   0   0   0   0  10   0   0   1   0   0   0   0   0   0   0   0\n",
      "   0   1   0   1   0   0   0   0   0   0   1   0   0   0   0   0   0   0\n",
      "   1   0   0   2   0   0 223   0   0   0   2   0   0   0   0   0   0   0\n",
      "   0   1   0   0   0   0   0   0   0   0   0   0   0   0   0   0   0   1\n",
      "   0   0   0   0   0   0   0   0   0   0   0   0]\n",
      "[  0   0   0   0   0   0   0   0   0   0   1   0   0   0   0   2   0   0\n",
      "   0   0   0   0   0   0   0   2   0   0   0   0   0   0   0   0   0   0\n",
      "   0   0   0   0   0   0   0   1   0   0   1   1   1   1   0   0   0   4\n",
      "   0   6   0   0   0   0   0 224   0   0   0   0   0   0   1   0   0   0\n",
      "   0   0   0   0   0   0   1   0   4   0   0   0   0   0   0   0   0   0\n",
      "   0   0   0   0   0   0   0   0   0   0   0   0]\n",
      "[  3   1   0   0   0   0   0   0   0   0   0   0   0   0   0   1   0   0\n",
      "   0   0   0   0   0   0   1   0   1   2   0   0   0   0   0   0   0   0\n",
      "   0   0   0   0   0   3   0   3   0   0   5   3   0   1   0   0   2   0\n",
      "   0   0   0   2   1   2   0   0 192   0   0   0   1   1   0   0   1   2\n",
      "   1   0   0   0   3   3   2   1   0   0   4   0   4   0   0   0   1   1\n",
      "   0   1   0   0   0   0   0   0   0   1   0   0]\n",
      "[  0   0   0   0   0   0   0   0   0   0   0   0   0   0   0   0   0   0\n",
      "   0   0   0   2   0   0   0   0   0   0   0   3   0   2   0   0   0   0\n",
      "   0   0   0   2   0   0   0   0   0   0   0   0   0   0   0   0   0   1\n",
      "   0   0   0   0   1   0   0   0   0 237   0   0   0   0   0   0   0   0\n",
      "   0   1   0   0   0   0   0   0   0   0   0   0   0   0   0   0   0   0\n",
      "   0   0   0   0   0   0   0   1   0   0   0   0]\n",
      "[  0   0   0   0   0   0   0   0   0   0   0   0   0   0   0   0   0   0\n",
      "   0   0   0   1   0   0   0   0   0   0   0   0   0   0   0   0   0   0\n",
      "   0   0   0   0   0   0   0   0   0   0   0   0   0   0   0   0   0   0\n",
      "   9   0   0   0   0   0   0   0   0   0 234   0   0   0   0   0   0   0\n",
      "   0   0   0   1   0   0   0   0   0   4   1   0   0   0   0   0   0   0\n",
      "   0   0   0   0   0   0   0   0   0   0   0   0]\n",
      "[  0   0   0   0   0   1   0   0   0   0   1   0   0   0   0   0   0   0\n",
      "   1   0   0   0   0   0   0   0   0   0   0   1   0   0   0   0   1   2\n",
      "   0   0   0   1   2   0   0   0   1   0   2   1   0   0   1   0   1   0\n",
      "   0   0   0   0   0   0   0   0   0   0   0 230   0   0   0   2   0   0\n",
      "   0   0   0   0   0   0   0   0   0   0   1   0   0   0   0   0   1   0\n",
      "   0   0   0   0   0   0   0   0   0   0   0   0]\n",
      "[  0   0   0   0   1   0   0   0   0   0   1   3   0   0   0   1   0   0\n",
      "   0   2   0   0   0   0   0   0   1   0   0   0   0   0   0   0   0   0\n",
      "   1   0   0   0   0   0   2   0   0   0   2   0   0   0   1  11   0   1\n",
      "   0   0   4   1   0   0   0   0   0   0   0   0 200   1   0   0   0   2\n",
      "   0   0   1   0   1   0   0   0   0   0   1   0   1   0   0   0   0   0\n",
      "   1   0   1   0   1   0   6   2   0   0   0   0]\n",
      "[  0   0   0   0   1   1   0   1   0   5   2   2   0   0   1   1   0   0\n",
      "   1   0   1   0   0   0   0   1   0   0   1   0   0   0   0   0   3   0\n",
      "   0   0   0   1   0   0   2   0   1   0   3   1   0   4   3   2   0   0\n",
      "   0   0   5   0   0   7   0   0   0   0   0   0   0 186   0   0   0   0\n",
      "   3   0   0   0   1   1   0   0   2   0   2   0   0   0   0   1   0   1\n",
      "   0   1   1   0   0   0   0   0   0   0   1   0]\n",
      "[  0   0   0   0   0   0   0   1   0   0   0   0   0   0   0   0   0   0\n",
      "   0   0   1   0   0   1   0   0   0   0   0   0   0   1   0   0   0   0\n",
      "   0   0   0   0   0   0   0  10   0   0   0   0   0   0   1   0   0   1\n",
      "   0   0   0   0   0   0   0   0   0   0   0   0   0   0 231   0   1   0\n",
      "   0   0   0   0   0   0   1   0   1   0   0   0   0   0   0   0   0   0\n",
      "   0   0   0   0   0   0   0   0   0   0   0   0]\n",
      "[  0   0   0   0   0   0   0   0   0   0   1   0   0   0   0   1   0   0\n",
      "   0   0   0   0   0   0   1   0   0   1   0   0   0   0   0   0   0   0\n",
      "   1   0   0   0   0   0   0   0   0   0   0   0   0   0   0   0   1   0\n",
      "   0   0   0   0   0   0   0   0   0   0   0   1   0   0   0 239   0   0\n",
      "   0   0   0   0   0   2   0   0   0   1   0   0   0   0   0   0   0   0\n",
      "   0   0   0   1   0   0   0   0   0   0   0   0]\n",
      "[  1   0   0   0   0   0   0   0   0   0   0   0   0   0   0   1   0   0\n",
      "   1   0   0   0   0   0   0   0   0   0   0   0   0   0   0   0   0   0\n",
      "   0   0   0   0   0   0   0   0   1   1   0   0   0   0   0   0   0   0\n",
      "   0   0   0   1   0   0   0   0   2   0   0   0   0   1   0   0 238   0\n",
      "   0   0   0   0   0   0   0   0   0   0   0   0   0   0   0   0   0   0\n",
      "   0   2   0   0   0   0   1   0   0   0   0   0]\n",
      "[  0   0   0   0   0   0   0   0   0   0   2   1   0   0   1   1   0   0\n",
      "   3   0   0   0   0   0   0   0   0   0   0   0   0   0   0   0   0   0\n",
      "   0   0   0   0   0   0   0   0   3   0   0   2   1   0   2   0   0   0\n",
      "   0   0   0   0   0   1   0   0   1   0   0   5   0   0   0   0   1 215\n",
      "   0   0   0   0   1   1   0   0   1   0   0   0   4   0   0   1   0   2\n",
      "   0   0   0   0   0   1   0   0   0   0   0   0]\n",
      "[  0   0   0   0   0   0   0   0   1   0   0   0   0   0   0   0   0   2\n",
      "   0   0   0   0   0   0   0   1   1   1   1   0   0   0   0   0   0   0\n",
      "   0   0   0   0   0   0   2   0   0   0   1   0   0   1   0   0   0   0\n",
      "   0   0   1   1   0   1   0   0   0   1   0   0   0   2   0   0   0   0\n",
      " 227   0   0   0   0   1   0   0   0   0   0   0   0   1   0   0   0   0\n",
      "   0   0   0   1   0   0   0   0   1   0   2   0]\n",
      "[  3   0   0   0   0   2   0   0   4   0   0   0   0   1   0   1   1   5\n",
      "   1   1   0   0  10   0   1   0   0   3   0   0   0   1   1   0   0   0\n",
      "   0   0   0   4   0   0   0   0   0   1   0   0   0   0   1   0   0   1\n",
      "   0   0   0   1   0   1   3   0   0   0   1   0   0   0   0   0   0   0\n",
      "   0 193   1   0   0   0   0   0   0   0   0   1   0   0   0   0   0   0\n",
      "   0   0   0   0   4   0   0   0   2   1   0   0]\n",
      "[  0   1   0   0   1   0   0   0   0   3   0   0   0   0   0   0   0   0\n",
      "   1   1   0   0   0   0   0   0   0   0   0   0   0   0   0   0   0   0\n",
      "   1   1   0   1   1   0   1   0   1   0   0   0   0   0   0   0   0   0\n",
      "   0   1   0   1   0   0   0   0   0   0   0   0   0   1   0   0   1   0\n",
      "   1   0 227   0   0   2   0   0   1   0   0   0   0   1   0   0   0   0\n",
      "   0   0   0   1   0   0   0   0   0   0   0   0]\n",
      "[  0   0   0   0   0   0   0   0   0   0   0   1   0   0   0   0   0   0\n",
      "   1   0   0   0   0   0   0   0   0   0   0   0   0   0   0   0   0   0\n",
      "   0   0   0   0   0   0   0   0   0   0   0   0   0   0   0   0   0   0\n",
      "   1   0   0   0   0   0   0   0   0   0   1   0   0   0   0   0   1   0\n",
      "   0   0   0 241   0   1   0   0   0   2   0   1   0   0   0   0   0   0\n",
      "   0   0   0   0   0   0   0   0   0   0   0   0]\n",
      "[  0   0   0   2   0   0   0   0   0   0   2   1   0   1   0   0   0   0\n",
      "   0   0   0   0   0   0   0   0   0   0   0   0   0   0   0   0   0   0\n",
      "   0   0   0   0   0   0   0   0   0   0   2   0   1   0   1   0   0   1\n",
      "   0   0   2   0   0   5   0   0   0   0   0   0   0   4   0   0   0   1\n",
      "   0   0   0   0 226   0   0   0   0   0   0   0   0   0   0   0   0   0\n",
      "   0   0   0   0   0   0   1   0   0   0   0   0]\n",
      "[  0   5   0   0   1   0   0   0   0   0   1   0   0   0   0   0   0   0\n",
      "   0   0   1   0   0   0   0   0   2   0   0   0   0   0   0   0   0   0\n",
      "   0  18   2   4   0   0   0   0   0   0   1   0   0   0  17   0   0   0\n",
      "   0   0   1   0   0   1   0   0   0   0   0   0   1   0   0   0   0   0\n",
      "   0   0   3   0   0 172   2   2   0   0   0   0   0   0   0   2   0   0\n",
      "   0   0   0  13   0   0   0   0   0   1   0   0]\n",
      "[  0   0   1   0   0   0   0   0   0   0   0   1   0   0   0   2   0   0\n",
      "   0   0   1   0   0   0   0   0   0   0   7   0   0   0   0   0   0   0\n",
      "   0   0   0   0   4   0   0   1   0   0   0   1   1   0   1   0   0   1\n",
      "   0   0   0   0   0   0   0   0   0   0   0   0   0   1   0   0   0   0\n",
      "   0   0   0   0   0   0 225   0   2   0   0   0   0   0   0   1   0   0\n",
      "   0   0   0   0   0   0   0   0   0   0   0   0]\n",
      "[  0   2   1   0   0   0   0   0   1   0   0   0   0   0   0   0   0   0\n",
      "   0   0   0   0   0   0   0   0   0   0   0   0   0   0   0   0   0   0\n",
      "   1   5   0   0   0   0   0   0   0   0   0   0   0   0   1   0   0   0\n",
      "   0   0   0   0   0   0   0   0   1   0   0   0   0   0   0   0   0   0\n",
      "   0   0   1   0   1   3   0 209   1   0   0   0   0   0   0   0   0   0\n",
      "   0   0   0  23   0   0   0   0   0   0   0   0]\n",
      "[  0   1   0   0   0   1   0   0   0   0   3   0   0   0   0   0   0   0\n",
      "   0   0   0   0   0   0   0   7   0   0   0   0   0   0   0   0   0   0\n",
      "   1   0   0   0   4   0   0   0   0   0   1   0   0   3   1   0   0   8\n",
      "   0   1   1   0   0   0   0   1   0   0   0   0   0   0   1   0   0   0\n",
      "   0   0   3   0   0   1   1   0 210   0   0   0   0   0   0   0   0   0\n",
      "   0   0   0   0   0   0   1   0   0   0   0   0]\n",
      "[  0   0   0   0   0   0   0   4   0   0   0   0   0   0   0   0   0   0\n",
      "   7   0   0   0   0   0   0   0   0   0   0   0   0   0   0   0   0   0\n",
      "   0   1   0   0   0   0   0   0   0   1   0   0   0   0   0   0   0   0\n",
      "   5   0   0   0   0   0   1   0   0   0   1   0   0   0   0   0   0   0\n",
      "   0   0   0  12   0   0   0   0   0 215   0   0   0   0   0   0   0   1\n",
      "   0   1   0   0   0   0   0   1   0   0   0   0]\n",
      "[  0   0   0   1   0   0   1   0   2   1   1   0   0   1   0   1   0   0\n",
      "  12   0   0   0   0   0   0   0   0   0   0   0   0   0   1   0   0   0\n",
      "   0   0   0   1   0   0   0   0   0   1   2   6   0   0   3   0   0   0\n",
      "   1   1   2   2   0   2   1   0   1   0   0   0   0   2   0   0   0   1\n",
      "   2   0   1   0   0   1   0   0   1   0 190   1   0   0   0   1   0   4\n",
      "   0   1   0   0   0   0   0   0   0   1   0   0]\n",
      "[  0   0   0   0   0   0   0   0   0   0   0   0   0   0  14   0   0   0\n",
      "   0   0   0   7   1   0   0   0   0   1   0   1   1   0   0   0   0   0\n",
      "   0   1   0   0   0   0   0   0   0   0   0   0   0   0   0   0   0   0\n",
      "   0   0   0   0   1   0   0   0   0   0   0   0   0   0   0   0   0   0\n",
      "   0   1   0   0   0   0   0   0   0   0   0 218   0   0   0   0   0   0\n",
      "   0   0   0   0   2   0   0   0   1   0   1   0]\n",
      "[  0   0   0   0   4   1   0   0   1   0   0   4   0   0   0   2   0   0\n",
      "   0   0   0   1   0   0   0   0   2   0   0   0   0   0   0   0   0   1\n",
      "   0   0   0   0   0   0   0   1  14   1   0   2   0   0   0   3   0   0\n",
      "   0   0   1   1   0   0   0   0   1   0   0   0   0   0   0   0   0   5\n",
      "   0   1   0   1   0   1   0   1   0   0   2   0 190   0   0   1   0   8\n",
      "   0   0   0   0   0   0   0   0   0   0   0   0]\n",
      "[  5   0   2   0   0   0   0   0   1   4   1   1   2   1   0   0   0   0\n",
      "   0   0   0   0   0   0   0   0   1   0   0   0   0   0   0   0   0   0\n",
      "   2   1   0   2   0   0   0   0   0   0   2   0   0   0   1   0   1   2\n",
      "   0   0   0   0   0   0   0   0   0   0   0   0   0   0   1   0   0   0\n",
      "   2   0   0   0   0   1   0   0   0   0   0   0   0 210   0   0   0   0\n",
      "   0   0   6   1   0   0   0   0   0   0   0   0]\n",
      "[  0   0   0   0   0   3   0   0   0   0   0   0   0   0   1   0   0   0\n",
      "   0   0   0   0   0   0   0   0   0   0   0   0   0   0   0   0   0   0\n",
      "   0   0   0   1   0   0   0   0   0   0   0   0   0   0   2   0   0   0\n",
      "   0   0   0   0   0   0   0   0   0   0   0   0   0   0   0   0   0   0\n",
      "   0   1   0   0   0   0   0   0   0   0   0   0   0   0 229   1   0   0\n",
      "   0   0   0   0   0  10   0   0   0   2   0   0]\n",
      "[  0   0   0   0   0   1   0   0   0   0   0   0   0   0   0   2   0   1\n",
      "   0   0   0   0   0   0   1   0   4   0   0   0   1   0   1   0   0   0\n",
      "   1   2   0  10   0   1   0   1   1   0   0   4   0   0   3   0   0   0\n",
      "   0   0   0   0   0   1   0   0   0   0   0   1   0   0   0   2   0   2\n",
      "   0   0   0   0   0   4   0   0   0   1   2   0   0   0   0 196   0   3\n",
      "   0   0   0   0   0   1   0   1   0   2   0   0]\n",
      "[  0   0   0   0   0   4   0   0   0   0   0   0   0   0   0   1   0   0\n",
      "   0   0   0   0   0   0   0   0   0   0   0   0   0   0   0   0   0   0\n",
      "   0   0   0   0   0   0   0   0   0   0   0   0   0   0   0   0   0   0\n",
      "   0   0   0   0   0   0   0   0   0   0   0   0   0   0   0   0   0   0\n",
      "   0   0   0   0   0   0   0   0   1   0   0   0   1   0   2   0 240   0\n",
      "   0   0   0   0   0   0   0   0   0   1   0   0]\n",
      "[  0   0   0   0   1   0   0   0   0   0   0   0   0   1   0   2   0   0\n",
      "   5   0   0   0   0   0   3   0   0   0   0   0   0   0   0   0   0   0\n",
      "   0   0   0   0   0   0   0   0   0   0   0   6   0   0   0   0   0   0\n",
      "   0   0   0   3   0   1   1   0   0   0   0   0   0   1   0   0   0   1\n",
      "   0   0   0   0   0   2   0   0   1   0   6   0   2   0   0   1   0 212\n",
      "   0   0   0   0   0   1   0   0   0   0   0   0]\n",
      "[  1   0   0   0   0   0   0   0   0   0   0   0   0   0   0   0   0   0\n",
      "   0   0   0   0   0   0   0   0   0   0   0   0   0   0   0   0   0   0\n",
      "   0   0   0   0   0   0   0   1   1   0   0   0   0   1   0   0   0   0\n",
      "   0   0   0   0   0   2   0   0   0   0   0   0   0   0   0   0   1   0\n",
      "   0   0   0   0   0   0   1   0   0   0   1   0   0   0   0   0   0   0\n",
      " 236   5   0   0   0   0   0   0   0   0   0   0]\n",
      "[  0   0   1   0   0   1   0   0   0   0   0   2   0   0   0   0   0   0\n",
      "   0   0   0   0   0   0   0   0   0   0   1   0   1   0   1   0   0   0\n",
      "   0   1   0   1   0   0   0   0   0   0   0   1   0   0   0   0   0   0\n",
      "   0   0   0   1   0   0   0   0   2   0   0   0   0   0   0   0   0   0\n",
      "   0   0   0   0   0   0   1   0   0   0   0   0   1   0   0   0   1   0\n",
      "   7 227   0   0   0   0   0   0   0   0   0   0]\n",
      "[  0   0   1   0   0   0   0   0   0   1   1   1   0   0   0   0   0   0\n",
      "   1   0   2   0   0   1   0   0   1   0   0   0   0   0   0   0   0   0\n",
      "   1   0   1   0   2   0   0   0   0   0   1   0   0   0   0   0   1   0\n",
      "   0   2   0   0   0   0   0   0   0   0   0   0   0   1   0   0   0   0\n",
      "   0   0   1   0   0   0   0   0   0   0   0   0   0   5   1   0   0   0\n",
      "   0   1 223   0   0   0   0   0   0   1   0   0]\n",
      "[  0   4   0   0   0   1   0   1   0   0   1   1   0   0   0   0   0   0\n",
      "   1   0   1   1   0   0   0   0   0   0   0   0   0   0   0   0   0   0\n",
      "   0  60   0   6   0   0   0   0   2   0   0   1   0   0   2   0   0   0\n",
      "   0   0   0   0   0   1   0   0   0   0   0   1   0   1   0   0   0   0\n",
      "   0   0   3   0   0  14   0  11   0   0   0   0   0   0   0   0   0   0\n",
      "   0   0   0 137   0   0   0   0   0   0   0   0]\n",
      "[  3   0   1   0   0   1   2   0   4   0   1   0   1   0   2   0   0   5\n",
      "   0   0   0   2   2   0   0   1   0   0   0   0   0   0   0   0   0   0\n",
      "   1   0   0   1   0   0   3   0   0   1   0   0   0   1   0   0   0   0\n",
      "   0   0   0   0   1   0   0   0   0   0   0   0   0   0   0   0   0   0\n",
      "   1   2   0   0   0   0   0   0   0   0   0   6   0   0   0   0   0   0\n",
      "   0   0   0   0 202   0   0   0   1   1   4   0]\n",
      "[  0   0   0   0   0   0   0   0   0   0   1   1   1   0   0   1   0   0\n",
      "   0   1   0   0   0   0   0   0   1   0   0   1   1   0   0   0   0   0\n",
      "   1   1   0   0   0   0   0   0   0   0   1   0   0   0   1   0   0   0\n",
      "   0   0   0   0   0   0   0   0   0   0   0   0   1   0   0   0   0   0\n",
      "   0   0   1   0   0   0   0   0   0   0   0   0   0   0   8   0   0   0\n",
      "   0   0   2   0   0 225   0   0   0   1   0   0]\n",
      "[  0   0   0   1   0   0   0   0   0   7   1   2   0   0   0   1   0   0\n",
      "   1   5   0   0   0   0   0   0   1   0   0   0   0   0   0   0   0   0\n",
      "   7   0   1   0   0   0   0   0   0   0   0   1   2   0   2   0   0   0\n",
      "   0   0   3   0   0   0   0   0   0   0   0   0   2   0   0   0   1   0\n",
      "   2   0   1   1   0   1   0   0   2   0   0   0   0   0   0   0   0   0\n",
      "   0   0   0   0   0   1 204   0   0   0   0   0]\n",
      "[  0   0   0   0   0   1   2   1   0   0   0   1   0   0   0   0   0   0\n",
      "   0   0   0   0   0   0   0   0   1   0   0   0   0   0   1   0   0   0\n",
      "   0   0   0   2   0   0   0   0   0   0   1   0   0   0   0   0   0   0\n",
      "   0   0   0   0   1   0   0   0   0   0   0   0   1   0   0   0   0   0\n",
      "   0   1   0   0   0   0   0   0   1   1   0   0   0   0   0   0   2   0\n",
      "   0   0   0   0   0   0   0 233   0   0   0   0]\n",
      "[  3   0   0   1   0   0   0   0   4   0   0   1   0   0   2   0   0   3\n",
      "   0   0   0  13   8   0   0   0   2   0   0   1   1   0   0   0   0   0\n",
      "   0   1   0   0   0   0   0   0   0   1   0   0   0   0   1   0   0   0\n",
      "   0   0   0   0   1   0   0   0   0   0   0   0   0   0   0   0   0   0\n",
      "   1   2   0   0   0   0   0   0   2   0   0   3   0   0   0   0   0   0\n",
      "   0   0   0   0   1   0   0   0 197   0   1   0]\n",
      "[  0   0   0   3  15   4   0   0   1   0   3   4   0   3   0   3   0   2\n",
      "   0   0   0   0   0   0   0   0   2   0   1   0   0   0   0   0   0   0\n",
      "   1   1   0   2   0   0   0   0   1   0   1   0   0   0   0   2   0   0\n",
      "   0   0   1   1   0   0   0   0   0   0   0   0   0   0   1   0   0   0\n",
      "   1   3   1   0   0   0   0   0   0   0   0   0   1   1   2   0   1   0\n",
      "   0   0   0   1   0   0   0   0   0 187   0   0]\n",
      "[  1   0   0   0   0   1   0   0   0   0   1   0   0   2   0   0   0   0\n",
      "   0   0   0   1   0   0   0   1   0   0   1   0   0   1   0   0   0   0\n",
      "   0   0   0   0   0   0   2   0   0   0   0   0   0   1   0   0   0   0\n",
      "   0   0   0   1   1   0   0   0   0   0   0   0   0   0   0   0   0   0\n",
      "   0   0   0   0   0   0   0   0   0   0   0   0   0   0   0   0   0   0\n",
      "   0   0   0   1   0   0   0   0   0   0 235   0]\n"
     ]
    }
   ],
   "source": [
    "confused = most_confused(cm, labels)"
   ]
  },
  {
   "cell_type": "code",
   "execution_count": 68,
   "metadata": {},
   "outputs": [
    {
     "data": {
      "text/plain": [
       "[]"
      ]
     },
     "execution_count": 68,
     "metadata": {},
     "output_type": "execute_result"
    }
   ],
   "source": [
    "confused"
   ]
  },
  {
   "cell_type": "code",
   "execution_count": null,
   "metadata": {},
   "outputs": [],
   "source": []
  }
 ],
 "metadata": {
  "kernelspec": {
   "display_name": "Python 3",
   "language": "python",
   "name": "python3"
  },
  "language_info": {
   "codemirror_mode": {
    "name": "ipython",
    "version": 3
   },
   "file_extension": ".py",
   "mimetype": "text/x-python",
   "name": "python",
   "nbconvert_exporter": "python",
   "pygments_lexer": "ipython3",
   "version": "3.5.3"
  }
 },
 "nbformat": 4,
 "nbformat_minor": 4
}
