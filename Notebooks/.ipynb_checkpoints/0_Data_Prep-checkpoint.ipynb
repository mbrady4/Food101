{
 "cells": [
  {
   "cell_type": "markdown",
   "metadata": {},
   "source": [
    "# Data Preparation\n",
    "\n",
    "The purpose of this notebook is to organize the food101 dataset. This notebook assumes that the dataset has already been downloaded (https://www.vision.ee.ethz.ch/datasets_extra/food-101/) and extracted into a folder titled 'food-101'. The assumption is that the 'food-101' is in the same current directory as this notebook (run to `!pwd` in a cell below to confirm). "
   ]
  },
  {
   "cell_type": "code",
   "execution_count": null,
   "metadata": {},
   "outputs": [],
   "source": [
    "# Notebook dependencies\n",
    "import json\n",
    "import os\n",
    "import pandas as pd\n",
    "import shutil\n",
    "\n",
    "# load json blob which tells us which images to include in the training set\n",
    "train_dict = json.load(open('food-101/meta/train.json'))\n",
    "\n",
    "# the path to the extracted food-101 images (this will be different across computers/environments)\n",
    "original_dataset_dir = '/home/jupyter/food-101/images'\n",
    "\n",
    "# the path to where the organized data will be stored\n",
    "base_dir = '/home/jupyter/data'"
   ]
  },
  {
   "cell_type": "code",
   "execution_count": 10,
   "metadata": {},
   "outputs": [],
   "source": [
    "# Create class directories in the train folder\n",
    "for key in train_dict.keys():\n",
    "    class_dir = os.path.join(base_dir, 'train/' + key)\n",
    "    os.mkdir(class_dir)"
   ]
  },
  {
   "cell_type": "code",
   "execution_count": 11,
   "metadata": {},
   "outputs": [],
   "source": [
    "# Copy files from original_dataset_dir to appropriate train directory\n",
    "for key in train_dict.keys():\n",
    "    for file in train_dict[key]:\n",
    "        src = os.path.join(original_dataset_dir, file + '.jpg')\n",
    "        dst = os.path.join(base_dir + '/train/', file + '.jpg')\n",
    "        shutil.copyfile(src, dst)"
   ]
  },
  {
   "cell_type": "code",
   "execution_count": 12,
   "metadata": {},
   "outputs": [],
   "source": [
    "# load json blob which tells us which images to include in the test set \n",
    "test_dict = json.load(open('food-101/meta/test.json'))"
   ]
  },
  {
   "cell_type": "code",
   "execution_count": 13,
   "metadata": {},
   "outputs": [],
   "source": [
    "# Create class directories in the test folder\n",
    "for key in test_dict.keys():\n",
    "    class_dir = os.path.join(base_dir, 'test/' + key)\n",
    "    os.mkdir(class_dir)"
   ]
  },
  {
   "cell_type": "code",
   "execution_count": 14,
   "metadata": {},
   "outputs": [],
   "source": [
    "# Copy files from original_dataset_dir to appropriate test directory\n",
    "for key in test_dict.keys():\n",
    "    for file in test_dict[key]:\n",
    "        src = os.path.join(original_dataset_dir, file + '.jpg')\n",
    "        dst = os.path.join(base_dir + '/test/', file + '.jpg')\n",
    "        shutil.copyfile(src, dst)"
   ]
  },
  {
   "cell_type": "markdown",
   "metadata": {},
   "source": [
    "At this point, we have split the food-101 dataset into a train and test set based on the information provided by the original publishers. Further, within the test and train sets we have organized each class into a sub-directory. This directory structure is a common way to organize image datasets in preparation for training image classifiers. In the next notebook, we will begin to explore the food-101 dataset."
   ]
  }
 ],
 "metadata": {
  "kernelspec": {
   "display_name": "Python 3",
   "language": "python",
   "name": "python3"
  },
  "language_info": {
   "codemirror_mode": {
    "name": "ipython",
    "version": 3
   },
   "file_extension": ".py",
   "mimetype": "text/x-python",
   "name": "python",
   "nbconvert_exporter": "python",
   "pygments_lexer": "ipython3",
   "version": "3.7.4"
  }
 },
 "nbformat": 4,
 "nbformat_minor": 4
}
